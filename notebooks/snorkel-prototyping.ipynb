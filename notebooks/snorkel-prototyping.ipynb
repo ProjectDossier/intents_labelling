{
 "cells": [
  {
   "cell_type": "code",
   "execution_count": 27,
   "metadata": {},
   "outputs": [],
   "source": [
    "import pandas as pd\n",
    "from snorkel.labeling import labeling_function,PandasLFApplier, LFAnalysis\n",
    "from snorkel.labeling.model import MajorityLabelVoter, LabelModel"
   ]
  },
  {
   "cell_type": "code",
   "execution_count": 28,
   "metadata": {
    "pycharm": {
     "name": "#%%\n"
    }
   },
   "outputs": [],
   "source": [
    "import csv\n",
    "names = [\"qid\", 'query', \"did\", 'url']\n",
    "df = pd.read_csv(\"../data/input/orcas_small.tsv\", sep='\\t', names=names, quoting=csv.QUOTE_NONE)"
   ]
  },
  {
   "cell_type": "code",
   "execution_count": 29,
   "metadata": {
    "pycharm": {
     "name": "#%%\n"
    }
   },
   "outputs": [
    {
     "data": {
      "text/html": [
       "<div>\n",
       "<style scoped>\n",
       "    .dataframe tbody tr th:only-of-type {\n",
       "        vertical-align: middle;\n",
       "    }\n",
       "\n",
       "    .dataframe tbody tr th {\n",
       "        vertical-align: top;\n",
       "    }\n",
       "\n",
       "    .dataframe thead th {\n",
       "        text-align: right;\n",
       "    }\n",
       "</style>\n",
       "<table border=\"1\" class=\"dataframe\">\n",
       "  <thead>\n",
       "    <tr style=\"text-align: right;\">\n",
       "      <th></th>\n",
       "      <th>qid</th>\n",
       "      <th>query</th>\n",
       "      <th>did</th>\n",
       "      <th>url</th>\n",
       "    </tr>\n",
       "  </thead>\n",
       "  <tbody>\n",
       "    <tr>\n",
       "      <th>0</th>\n",
       "      <td>9808497</td>\n",
       "      <td>comcast phone service problems</td>\n",
       "      <td>D1720298</td>\n",
       "      <td>https://www.consumeraffairs.com/cable_tv/comca...</td>\n",
       "    </tr>\n",
       "    <tr>\n",
       "      <th>1</th>\n",
       "      <td>7422091</td>\n",
       "      <td>conversions in maths</td>\n",
       "      <td>D1043187</td>\n",
       "      <td>https://www.wyzant.com/resources/lessons/math/...</td>\n",
       "    </tr>\n",
       "    <tr>\n",
       "      <th>2</th>\n",
       "      <td>7334168</td>\n",
       "      <td>side effects associated with using elderberry</td>\n",
       "      <td>D1429818</td>\n",
       "      <td>https://www.webmd.com/vitamins-supplements/ing...</td>\n",
       "    </tr>\n",
       "    <tr>\n",
       "      <th>3</th>\n",
       "      <td>8991004</td>\n",
       "      <td>what happened to general electric</td>\n",
       "      <td>D119293</td>\n",
       "      <td>https://en.wikipedia.org/wiki/General_Electric</td>\n",
       "    </tr>\n",
       "    <tr>\n",
       "      <th>4</th>\n",
       "      <td>7822254</td>\n",
       "      <td>nobel laureates by university</td>\n",
       "      <td>D3485625</td>\n",
       "      <td>http://s.wsj.net/public/resources/documents/st...</td>\n",
       "    </tr>\n",
       "  </tbody>\n",
       "</table>\n",
       "</div>"
      ],
      "text/plain": [
       "       qid                                          query       did  \\\n",
       "0  9808497                 comcast phone service problems  D1720298   \n",
       "1  7422091                           conversions in maths  D1043187   \n",
       "2  7334168  side effects associated with using elderberry  D1429818   \n",
       "3  8991004              what happened to general electric   D119293   \n",
       "4  7822254                  nobel laureates by university  D3485625   \n",
       "\n",
       "                                                 url  \n",
       "0  https://www.consumeraffairs.com/cable_tv/comca...  \n",
       "1  https://www.wyzant.com/resources/lessons/math/...  \n",
       "2  https://www.webmd.com/vitamins-supplements/ing...  \n",
       "3     https://en.wikipedia.org/wiki/General_Electric  \n",
       "4  http://s.wsj.net/public/resources/documents/st...  "
      ]
     },
     "execution_count": 29,
     "metadata": {},
     "output_type": "execute_result"
    }
   ],
   "source": [
    "df.head()"
   ]
  },
  {
   "cell_type": "code",
   "execution_count": 30,
   "metadata": {
    "pycharm": {
     "name": "#%%\n"
    }
   },
   "outputs": [],
   "source": [
    "df['query'] = df['query'].astype(str)"
   ]
  },
  {
   "cell_type": "code",
   "execution_count": 31,
   "metadata": {
    "pycharm": {
     "name": "#%%\n"
    }
   },
   "outputs": [],
   "source": [
    "\n",
    "# Constants for our labels\n",
    "TRANSACTIONAL = 1\n",
    "NAVIGATIONAL = 0\n",
    "ABSTAIN = -1"
   ]
  },
  {
   "cell_type": "code",
   "execution_count": 32,
   "metadata": {
    "pycharm": {
     "name": "#%%\n"
    }
   },
   "outputs": [],
   "source": [
    "df_train = df.sample(frac=0.5)\n",
    "df_test = df[~df.index.isin(df_train.index)]"
   ]
  },
  {
   "cell_type": "code",
   "execution_count": 33,
   "metadata": {
    "pycharm": {
     "name": "#%%\n"
    }
   },
   "outputs": [
    {
     "name": "stdout",
     "output_type": "stream",
     "text": [
      "(50000, 4)\n",
      "(50000, 4)\n",
      "(100000, 4)\n"
     ]
    }
   ],
   "source": [
    "print(df_train.shape)\n",
    "print(df_test.shape)\n",
    "print(df.shape)"
   ]
  },
  {
   "cell_type": "code",
   "execution_count": 34,
   "metadata": {
    "pycharm": {
     "name": "#%%\n"
    }
   },
   "outputs": [],
   "source": [
    "@labeling_function()\n",
    "def lf_login(x):\n",
    "  keywords = [\"login\",\"signin\",\"log in\",\"sign in\"]\n",
    "  return NAVIGATIONAL if any(word in x.query.lower() for word in keywords) else ABSTAIN"
   ]
  },
  {
   "cell_type": "code",
   "execution_count": 35,
   "metadata": {
    "pycharm": {
     "name": "#%%\n"
    }
   },
   "outputs": [],
   "source": [
    "@labeling_function()\n",
    "def lf_download_lookup(x):\n",
    "  keywords = [\"download\", \"obtain\"]\n",
    "  return TRANSACTIONAL if any(word in x.query.lower() for word in keywords) else ABSTAIN"
   ]
  },
  {
   "cell_type": "code",
   "execution_count": 36,
   "metadata": {
    "pycharm": {
     "name": "#%%\n"
    }
   },
   "outputs": [],
   "source": [
    "@labeling_function()\n",
    "def lf_audio_video_lookup(x):\n",
    "  keywords = [\"audio\", \"video\", \"image\", \"images\"]\n",
    "  return TRANSACTIONAL if any(word in x.query.lower() for word in keywords) else ABSTAIN"
   ]
  },
  {
   "cell_type": "code",
   "execution_count": 37,
   "metadata": {
    "pycharm": {
     "name": "#%%\n"
    }
   },
   "outputs": [],
   "source": [
    "@labeling_function()\n",
    "def lf_extension_lookup(x):\n",
    "  keywords = [\"jpeg\", \"rar\", \"png\", \"mp3\"]\n",
    "  return TRANSACTIONAL if any(word in x.query.lower() for word in keywords) else ABSTAIN"
   ]
  },
  {
   "cell_type": "code",
   "execution_count": 38,
   "metadata": {
    "pycharm": {
     "name": "#%%\n"
    }
   },
   "outputs": [],
   "source": [
    "@labeling_function()\n",
    "def lf_transaction_lookup(x):\n",
    "  keywords = [\"online\", \"free\", \"transaction\", \"buy\"]\n",
    "  return TRANSACTIONAL if any(word in x.query.lower() for word in keywords) else ABSTAIN"
   ]
  },
  {
   "cell_type": "code",
   "execution_count": 39,
   "metadata": {
    "pycharm": {
     "name": "#%%\n"
    }
   },
   "outputs": [],
   "source": [
    "@labeling_function()\n",
    "def lf_www(x):\n",
    "  keywords = [\"www\", \"http\", \"https\"]\n",
    "  return NAVIGATIONAL if any(word in x.query.lower() for word in keywords) else ABSTAIN"
   ]
  },
  {
   "cell_type": "code",
   "execution_count": 40,
   "metadata": {
    "pycharm": {
     "name": "#%%\n"
    }
   },
   "outputs": [
    {
     "name": "stderr",
     "output_type": "stream",
     "text": [
      "100%|█████████████████████████████████| 100000/100000 [00:13<00:00, 7652.96it/s]\n"
     ]
    }
   ],
   "source": [
    "### Apply Fxn\n",
    "lfs = [lf_login,lf_download_lookup, lf_audio_video_lookup, lf_extension_lookup, lf_transaction_lookup, lf_www]\n",
    "applier = PandasLFApplier(lfs=lfs)\n",
    "L_train = applier.apply(df=df)"
   ]
  },
  {
   "cell_type": "code",
   "execution_count": 41,
   "metadata": {
    "pycharm": {
     "name": "#%%\n"
    }
   },
   "outputs": [
    {
     "data": {
      "text/plain": [
       "array([[-1, -1, -1, -1, -1, -1],\n",
       "       [-1, -1, -1, -1, -1, -1],\n",
       "       [-1, -1, -1, -1, -1, -1],\n",
       "       ...,\n",
       "       [-1, -1, -1, -1, -1, -1],\n",
       "       [-1, -1, -1, -1, -1, -1],\n",
       "       [-1, -1, -1, -1, -1, -1]])"
      ]
     },
     "execution_count": 41,
     "metadata": {},
     "output_type": "execute_result"
    }
   ],
   "source": [
    "L_train"
   ]
  },
  {
   "cell_type": "code",
   "execution_count": 42,
   "metadata": {
    "pycharm": {
     "name": "#%%\n"
    }
   },
   "outputs": [
    {
     "data": {
      "text/html": [
       "<div>\n",
       "<style scoped>\n",
       "    .dataframe tbody tr th:only-of-type {\n",
       "        vertical-align: middle;\n",
       "    }\n",
       "\n",
       "    .dataframe tbody tr th {\n",
       "        vertical-align: top;\n",
       "    }\n",
       "\n",
       "    .dataframe thead th {\n",
       "        text-align: right;\n",
       "    }\n",
       "</style>\n",
       "<table border=\"1\" class=\"dataframe\">\n",
       "  <thead>\n",
       "    <tr style=\"text-align: right;\">\n",
       "      <th></th>\n",
       "      <th>j</th>\n",
       "      <th>Polarity</th>\n",
       "      <th>Coverage</th>\n",
       "      <th>Overlaps</th>\n",
       "      <th>Conflicts</th>\n",
       "    </tr>\n",
       "  </thead>\n",
       "  <tbody>\n",
       "    <tr>\n",
       "      <th>lf_login</th>\n",
       "      <td>0</td>\n",
       "      <td>[0]</td>\n",
       "      <td>0.01279</td>\n",
       "      <td>0.00131</td>\n",
       "      <td>0.00045</td>\n",
       "    </tr>\n",
       "    <tr>\n",
       "      <th>lf_download_lookup</th>\n",
       "      <td>1</td>\n",
       "      <td>[1]</td>\n",
       "      <td>0.00602</td>\n",
       "      <td>0.00140</td>\n",
       "      <td>0.00014</td>\n",
       "    </tr>\n",
       "    <tr>\n",
       "      <th>lf_audio_video_lookup</th>\n",
       "      <td>2</td>\n",
       "      <td>[1]</td>\n",
       "      <td>0.00227</td>\n",
       "      <td>0.00032</td>\n",
       "      <td>0.00000</td>\n",
       "    </tr>\n",
       "    <tr>\n",
       "      <th>lf_extension_lookup</th>\n",
       "      <td>3</td>\n",
       "      <td>[1]</td>\n",
       "      <td>0.00225</td>\n",
       "      <td>0.00021</td>\n",
       "      <td>0.00005</td>\n",
       "    </tr>\n",
       "    <tr>\n",
       "      <th>lf_transaction_lookup</th>\n",
       "      <td>4</td>\n",
       "      <td>[1]</td>\n",
       "      <td>0.02443</td>\n",
       "      <td>0.00241</td>\n",
       "      <td>0.00094</td>\n",
       "    </tr>\n",
       "    <tr>\n",
       "      <th>lf_www</th>\n",
       "      <td>5</td>\n",
       "      <td>[0]</td>\n",
       "      <td>0.01834</td>\n",
       "      <td>0.00155</td>\n",
       "      <td>0.00069</td>\n",
       "    </tr>\n",
       "  </tbody>\n",
       "</table>\n",
       "</div>"
      ],
      "text/plain": [
       "                       j Polarity  Coverage  Overlaps  Conflicts\n",
       "lf_login               0      [0]   0.01279   0.00131    0.00045\n",
       "lf_download_lookup     1      [1]   0.00602   0.00140    0.00014\n",
       "lf_audio_video_lookup  2      [1]   0.00227   0.00032    0.00000\n",
       "lf_extension_lookup    3      [1]   0.00225   0.00021    0.00005\n",
       "lf_transaction_lookup  4      [1]   0.02443   0.00241    0.00094\n",
       "lf_www                 5      [0]   0.01834   0.00155    0.00069"
      ]
     },
     "execution_count": 42,
     "metadata": {},
     "output_type": "execute_result"
    }
   ],
   "source": [
    "LFAnalysis(L=L_train,lfs=lfs).lf_summary()"
   ]
  },
  {
   "cell_type": "code",
   "execution_count": 43,
   "metadata": {
    "pycharm": {
     "name": "#%%\n"
    }
   },
   "outputs": [
    {
     "data": {
      "text/html": [
       "<div>\n",
       "<style scoped>\n",
       "    .dataframe tbody tr th:only-of-type {\n",
       "        vertical-align: middle;\n",
       "    }\n",
       "\n",
       "    .dataframe tbody tr th {\n",
       "        vertical-align: top;\n",
       "    }\n",
       "\n",
       "    .dataframe thead th {\n",
       "        text-align: right;\n",
       "    }\n",
       "</style>\n",
       "<table border=\"1\" class=\"dataframe\">\n",
       "  <thead>\n",
       "    <tr style=\"text-align: right;\">\n",
       "      <th></th>\n",
       "      <th>j</th>\n",
       "      <th>Polarity</th>\n",
       "      <th>Coverage</th>\n",
       "      <th>Overlaps</th>\n",
       "      <th>Conflicts</th>\n",
       "    </tr>\n",
       "  </thead>\n",
       "  <tbody>\n",
       "    <tr>\n",
       "      <th>lf_login</th>\n",
       "      <td>0</td>\n",
       "      <td>[0]</td>\n",
       "      <td>0.01279</td>\n",
       "      <td>0.00131</td>\n",
       "      <td>0.00045</td>\n",
       "    </tr>\n",
       "    <tr>\n",
       "      <th>lf_download_lookup</th>\n",
       "      <td>1</td>\n",
       "      <td>[1]</td>\n",
       "      <td>0.00602</td>\n",
       "      <td>0.00140</td>\n",
       "      <td>0.00014</td>\n",
       "    </tr>\n",
       "    <tr>\n",
       "      <th>lf_audio_video_lookup</th>\n",
       "      <td>2</td>\n",
       "      <td>[1]</td>\n",
       "      <td>0.00227</td>\n",
       "      <td>0.00032</td>\n",
       "      <td>0.00000</td>\n",
       "    </tr>\n",
       "    <tr>\n",
       "      <th>lf_extension_lookup</th>\n",
       "      <td>3</td>\n",
       "      <td>[1]</td>\n",
       "      <td>0.00225</td>\n",
       "      <td>0.00021</td>\n",
       "      <td>0.00005</td>\n",
       "    </tr>\n",
       "    <tr>\n",
       "      <th>lf_transaction_lookup</th>\n",
       "      <td>4</td>\n",
       "      <td>[1]</td>\n",
       "      <td>0.02443</td>\n",
       "      <td>0.00241</td>\n",
       "      <td>0.00094</td>\n",
       "    </tr>\n",
       "    <tr>\n",
       "      <th>lf_www</th>\n",
       "      <td>5</td>\n",
       "      <td>[0]</td>\n",
       "      <td>0.01834</td>\n",
       "      <td>0.00155</td>\n",
       "      <td>0.00069</td>\n",
       "    </tr>\n",
       "  </tbody>\n",
       "</table>\n",
       "</div>"
      ],
      "text/plain": [
       "                       j Polarity  Coverage  Overlaps  Conflicts\n",
       "lf_login               0      [0]   0.01279   0.00131    0.00045\n",
       "lf_download_lookup     1      [1]   0.00602   0.00140    0.00014\n",
       "lf_audio_video_lookup  2      [1]   0.00227   0.00032    0.00000\n",
       "lf_extension_lookup    3      [1]   0.00225   0.00021    0.00005\n",
       "lf_transaction_lookup  4      [1]   0.02443   0.00241    0.00094\n",
       "lf_www                 5      [0]   0.01834   0.00155    0.00069"
      ]
     },
     "execution_count": 43,
     "metadata": {},
     "output_type": "execute_result"
    }
   ],
   "source": [
    "LFAnalysis(L=L_train,lfs=lfs).lf_summary()"
   ]
  },
  {
   "cell_type": "code",
   "execution_count": 44,
   "metadata": {
    "pycharm": {
     "name": "#%%\n"
    }
   },
   "outputs": [],
   "source": [
    "# Build the model\n",
    "label_model = LabelModel(cardinality=2,verbose=True)\n",
    "label_model.fit(L_train=L_train,n_epochs=500,log_freq=100,seed=123)\n"
   ]
  },
  {
   "cell_type": "code",
   "execution_count": 45,
   "metadata": {
    "pycharm": {
     "name": "#%%\n"
    }
   },
   "outputs": [],
   "source": [
    "\n",
    "df['Labels'] = label_model.predict(L=L_train,tie_break_policy=\"abstain\")"
   ]
  },
  {
   "cell_type": "code",
   "execution_count": 46,
   "metadata": {
    "pycharm": {
     "name": "#%%\n"
    }
   },
   "outputs": [
    {
     "data": {
      "text/plain": [
       "-1    93755\n",
       " 1     3241\n",
       " 0     3004\n",
       "Name: Labels, dtype: int64"
      ]
     },
     "execution_count": 46,
     "metadata": {},
     "output_type": "execute_result"
    }
   ],
   "source": [
    "df[\"Labels\"].value_counts()"
   ]
  },
  {
   "cell_type": "code",
   "execution_count": 47,
   "metadata": {
    "pycharm": {
     "name": "#%%\n"
    }
   },
   "outputs": [
    {
     "data": {
      "text/html": [
       "<div>\n",
       "<style scoped>\n",
       "    .dataframe tbody tr th:only-of-type {\n",
       "        vertical-align: middle;\n",
       "    }\n",
       "\n",
       "    .dataframe tbody tr th {\n",
       "        vertical-align: top;\n",
       "    }\n",
       "\n",
       "    .dataframe thead th {\n",
       "        text-align: right;\n",
       "    }\n",
       "</style>\n",
       "<table border=\"1\" class=\"dataframe\">\n",
       "  <thead>\n",
       "    <tr style=\"text-align: right;\">\n",
       "      <th></th>\n",
       "      <th>qid</th>\n",
       "      <th>query</th>\n",
       "      <th>did</th>\n",
       "      <th>url</th>\n",
       "      <th>Labels</th>\n",
       "    </tr>\n",
       "  </thead>\n",
       "  <tbody>\n",
       "    <tr>\n",
       "      <th>36</th>\n",
       "      <td>10588333</td>\n",
       "      <td>united airlines check in online boarding pass</td>\n",
       "      <td>D22221</td>\n",
       "      <td>https://www.united.com/ual/en/us/</td>\n",
       "      <td>1</td>\n",
       "    </tr>\n",
       "    <tr>\n",
       "      <th>103</th>\n",
       "      <td>11094590</td>\n",
       "      <td>bestbuy rewards</td>\n",
       "      <td>D2798010</td>\n",
       "      <td>http://forums.bestbuy.com/t5/Customer-Service-...</td>\n",
       "      <td>1</td>\n",
       "    </tr>\n",
       "    <tr>\n",
       "      <th>111</th>\n",
       "      <td>5998697</td>\n",
       "      <td>file my unemployment claim online</td>\n",
       "      <td>D156425</td>\n",
       "      <td>https://esd.wa.gov/unemployment</td>\n",
       "      <td>1</td>\n",
       "    </tr>\n",
       "    <tr>\n",
       "      <th>117</th>\n",
       "      <td>2506359</td>\n",
       "      <td>blue eyes song download</td>\n",
       "      <td>D2072509</td>\n",
       "      <td>http://www.lyricsmint.com/2013/11/blue-eyes-ho...</td>\n",
       "      <td>1</td>\n",
       "    </tr>\n",
       "    <tr>\n",
       "      <th>135</th>\n",
       "      <td>12345415</td>\n",
       "      <td>aa account online</td>\n",
       "      <td>D2485840</td>\n",
       "      <td>http://www.theaa.com/myaa/frequently-asked-que...</td>\n",
       "      <td>1</td>\n",
       "    </tr>\n",
       "    <tr>\n",
       "      <th>...</th>\n",
       "      <td>...</td>\n",
       "      <td>...</td>\n",
       "      <td>...</td>\n",
       "      <td>...</td>\n",
       "      <td>...</td>\n",
       "    </tr>\n",
       "    <tr>\n",
       "      <th>99845</th>\n",
       "      <td>9631046</td>\n",
       "      <td>series top online</td>\n",
       "      <td>D1564168</td>\n",
       "      <td>https://www.rottentomatoes.com/top-tv/</td>\n",
       "      <td>1</td>\n",
       "    </tr>\n",
       "    <tr>\n",
       "      <th>99888</th>\n",
       "      <td>3865125</td>\n",
       "      <td>google chrome downloader</td>\n",
       "      <td>D554717</td>\n",
       "      <td>https://chrome-64-bit.en.softonic.com/</td>\n",
       "      <td>1</td>\n",
       "    </tr>\n",
       "    <tr>\n",
       "      <th>99913</th>\n",
       "      <td>10777534</td>\n",
       "      <td>.net framework 4.7 download</td>\n",
       "      <td>D2878205</td>\n",
       "      <td>https://blogs.msdn.microsoft.com/dotnet/2017/0...</td>\n",
       "      <td>1</td>\n",
       "    </tr>\n",
       "    <tr>\n",
       "      <th>99914</th>\n",
       "      <td>3750564</td>\n",
       "      <td>halogen-free</td>\n",
       "      <td>D233868</td>\n",
       "      <td>https://en.wikipedia.org/wiki/Halogen</td>\n",
       "      <td>1</td>\n",
       "    </tr>\n",
       "    <tr>\n",
       "      <th>99981</th>\n",
       "      <td>3647839</td>\n",
       "      <td>free ribosome</td>\n",
       "      <td>D1929379</td>\n",
       "      <td>http://www.wisegeek.com/what-is-a-free-ribosom...</td>\n",
       "      <td>1</td>\n",
       "    </tr>\n",
       "  </tbody>\n",
       "</table>\n",
       "<p>3241 rows × 5 columns</p>\n",
       "</div>"
      ],
      "text/plain": [
       "            qid                                          query       did  \\\n",
       "36     10588333  united airlines check in online boarding pass    D22221   \n",
       "103    11094590                                bestbuy rewards  D2798010   \n",
       "111     5998697              file my unemployment claim online   D156425   \n",
       "117     2506359                        blue eyes song download  D2072509   \n",
       "135    12345415                              aa account online  D2485840   \n",
       "...         ...                                            ...       ...   \n",
       "99845   9631046                              series top online  D1564168   \n",
       "99888   3865125                       google chrome downloader   D554717   \n",
       "99913  10777534                    .net framework 4.7 download  D2878205   \n",
       "99914   3750564                                   halogen-free   D233868   \n",
       "99981   3647839                                  free ribosome  D1929379   \n",
       "\n",
       "                                                     url  Labels  \n",
       "36                     https://www.united.com/ual/en/us/       1  \n",
       "103    http://forums.bestbuy.com/t5/Customer-Service-...       1  \n",
       "111                      https://esd.wa.gov/unemployment       1  \n",
       "117    http://www.lyricsmint.com/2013/11/blue-eyes-ho...       1  \n",
       "135    http://www.theaa.com/myaa/frequently-asked-que...       1  \n",
       "...                                                  ...     ...  \n",
       "99845             https://www.rottentomatoes.com/top-tv/       1  \n",
       "99888             https://chrome-64-bit.en.softonic.com/       1  \n",
       "99913  https://blogs.msdn.microsoft.com/dotnet/2017/0...       1  \n",
       "99914              https://en.wikipedia.org/wiki/Halogen       1  \n",
       "99981  http://www.wisegeek.com/what-is-a-free-ribosom...       1  \n",
       "\n",
       "[3241 rows x 5 columns]"
      ]
     },
     "execution_count": 47,
     "metadata": {},
     "output_type": "execute_result"
    }
   ],
   "source": [
    "df[df.Labels == TRANSACTIONAL]\n"
   ]
  },
  {
   "cell_type": "code",
   "execution_count": 50,
   "metadata": {
    "pycharm": {
     "name": "#%%\n"
    }
   },
   "outputs": [
    {
     "data": {
      "text/html": [
       "<div>\n",
       "<style scoped>\n",
       "    .dataframe tbody tr th:only-of-type {\n",
       "        vertical-align: middle;\n",
       "    }\n",
       "\n",
       "    .dataframe tbody tr th {\n",
       "        vertical-align: top;\n",
       "    }\n",
       "\n",
       "    .dataframe thead th {\n",
       "        text-align: right;\n",
       "    }\n",
       "</style>\n",
       "<table border=\"1\" class=\"dataframe\">\n",
       "  <thead>\n",
       "    <tr style=\"text-align: right;\">\n",
       "      <th></th>\n",
       "      <th>qid</th>\n",
       "      <th>query</th>\n",
       "      <th>did</th>\n",
       "      <th>url</th>\n",
       "      <th>Labels</th>\n",
       "    </tr>\n",
       "  </thead>\n",
       "  <tbody>\n",
       "    <tr>\n",
       "      <th>68</th>\n",
       "      <td>8535833</td>\n",
       "      <td>google apps account sign in</td>\n",
       "      <td>D2846230</td>\n",
       "      <td>https://myaccount.google.com/intro/security</td>\n",
       "      <td>0</td>\n",
       "    </tr>\n",
       "    <tr>\n",
       "      <th>114</th>\n",
       "      <td>8340312</td>\n",
       "      <td>www.home.fedex.com/corp</td>\n",
       "      <td>D746398</td>\n",
       "      <td>https://www.fedex.com/en-us/home.html</td>\n",
       "      <td>0</td>\n",
       "    </tr>\n",
       "    <tr>\n",
       "      <th>122</th>\n",
       "      <td>6388359</td>\n",
       "      <td>www.hip2</td>\n",
       "      <td>D2084981</td>\n",
       "      <td>http://hip2save.com/</td>\n",
       "      <td>0</td>\n",
       "    </tr>\n",
       "    <tr>\n",
       "      <th>130</th>\n",
       "      <td>10862166</td>\n",
       "      <td>wep login</td>\n",
       "      <td>D229037</td>\n",
       "      <td>https://www.lifewire.com/what-is-a-wep-key-818305</td>\n",
       "      <td>0</td>\n",
       "    </tr>\n",
       "    <tr>\n",
       "      <th>149</th>\n",
       "      <td>9813398</td>\n",
       "      <td>gdc email login</td>\n",
       "      <td>D1396177</td>\n",
       "      <td>https://georgia.gov/agencies/georgia-departmen...</td>\n",
       "      <td>0</td>\n",
       "    </tr>\n",
       "    <tr>\n",
       "      <th>...</th>\n",
       "      <td>...</td>\n",
       "      <td>...</td>\n",
       "      <td>...</td>\n",
       "      <td>...</td>\n",
       "      <td>...</td>\n",
       "    </tr>\n",
       "    <tr>\n",
       "      <th>99819</th>\n",
       "      <td>4925149</td>\n",
       "      <td>hhh exchange login</td>\n",
       "      <td>D3080248</td>\n",
       "      <td>https://hhaexchange.com/</td>\n",
       "      <td>0</td>\n",
       "    </tr>\n",
       "    <tr>\n",
       "      <th>99915</th>\n",
       "      <td>10932107</td>\n",
       "      <td>) https://jkodirect.jten.mil</td>\n",
       "      <td>D3283699</td>\n",
       "      <td>https://jkodirect.jten.mil/</td>\n",
       "      <td>0</td>\n",
       "    </tr>\n",
       "    <tr>\n",
       "      <th>99916</th>\n",
       "      <td>5416904</td>\n",
       "      <td>roblox login hack</td>\n",
       "      <td>D153050</td>\n",
       "      <td>http://bugmenot.com/view/roblox.net</td>\n",
       "      <td>0</td>\n",
       "    </tr>\n",
       "    <tr>\n",
       "      <th>99917</th>\n",
       "      <td>11444963</td>\n",
       "      <td>www.pacareelink.pa.gov</td>\n",
       "      <td>D618717</td>\n",
       "      <td>https://www.jobgateway.pa.gov/jponline/JobSeek...</td>\n",
       "      <td>0</td>\n",
       "    </tr>\n",
       "    <tr>\n",
       "      <th>99984</th>\n",
       "      <td>3314848</td>\n",
       "      <td>www.nationalweatherservice.com</td>\n",
       "      <td>D3252392</td>\n",
       "      <td>http://forecast.weather.gov/MapClick.php?site=...</td>\n",
       "      <td>0</td>\n",
       "    </tr>\n",
       "  </tbody>\n",
       "</table>\n",
       "<p>3004 rows × 5 columns</p>\n",
       "</div>"
      ],
      "text/plain": [
       "            qid                           query       did  \\\n",
       "68      8535833     google apps account sign in  D2846230   \n",
       "114     8340312         www.home.fedex.com/corp   D746398   \n",
       "122     6388359                        www.hip2  D2084981   \n",
       "130    10862166                       wep login   D229037   \n",
       "149     9813398                 gdc email login  D1396177   \n",
       "...         ...                             ...       ...   \n",
       "99819   4925149              hhh exchange login  D3080248   \n",
       "99915  10932107    ) https://jkodirect.jten.mil  D3283699   \n",
       "99916   5416904               roblox login hack   D153050   \n",
       "99917  11444963          www.pacareelink.pa.gov   D618717   \n",
       "99984   3314848  www.nationalweatherservice.com  D3252392   \n",
       "\n",
       "                                                     url  Labels  \n",
       "68           https://myaccount.google.com/intro/security       0  \n",
       "114                https://www.fedex.com/en-us/home.html       0  \n",
       "122                                 http://hip2save.com/       0  \n",
       "130    https://www.lifewire.com/what-is-a-wep-key-818305       0  \n",
       "149    https://georgia.gov/agencies/georgia-departmen...       0  \n",
       "...                                                  ...     ...  \n",
       "99819                           https://hhaexchange.com/       0  \n",
       "99915                        https://jkodirect.jten.mil/       0  \n",
       "99916                http://bugmenot.com/view/roblox.net       0  \n",
       "99917  https://www.jobgateway.pa.gov/jponline/JobSeek...       0  \n",
       "99984  http://forecast.weather.gov/MapClick.php?site=...       0  \n",
       "\n",
       "[3004 rows x 5 columns]"
      ]
     },
     "execution_count": 50,
     "metadata": {},
     "output_type": "execute_result"
    }
   ],
   "source": [
    "df[df.Labels == NAVIGATIONAL]"
   ]
  },
  {
   "cell_type": "code",
   "execution_count": 51,
   "metadata": {
    "pycharm": {
     "name": "#%%\n"
    }
   },
   "outputs": [],
   "source": [
    "import seaborn as sns"
   ]
  },
  {
   "cell_type": "code",
   "execution_count": 52,
   "metadata": {},
   "outputs": [
    {
     "data": {
      "text/plain": [
       "<AxesSubplot:xlabel='Labels', ylabel='count'>"
      ]
     },
     "execution_count": 52,
     "metadata": {},
     "output_type": "execute_result"
    },
    {
     "data": {
      "image/png": "[encoded data removed]",
      "text/plain": [
       "<Figure size 432x288 with 1 Axes>"
      ]
     },
     "metadata": {
      "needs_background": "light"
     },
     "output_type": "display_data"
    }
   ],
   "source": [
    "sns.countplot(x='Labels',data=df)"
   ]
  },
  {
   "cell_type": "code",
   "execution_count": null,
   "metadata": {},
   "outputs": [],
   "source": []
  }
 ],
 "metadata": {
  "kernelspec": {
   "display_name": "Python 3 (ipykernel)",
   "language": "python",
   "name": "python3"
  },
  "language_info": {
   "codemirror_mode": {
    "name": "ipython",
    "version": 3
   },
   "file_extension": ".py",
   "mimetype": "text/x-python",
   "name": "python",
   "nbconvert_exporter": "python",
   "pygments_lexer": "ipython3",
   "version": "3.8.12"
  }
 },
 "nbformat": 4,
 "nbformat_minor": 1
}
