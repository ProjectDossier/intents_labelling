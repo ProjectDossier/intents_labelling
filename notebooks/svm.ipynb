{
  "nbformat": 4,
  "nbformat_minor": 0,
  "metadata": {
    "colab": {
      "name": "svm.ipynb",
      "provenance": [],
      "collapsed_sections": []
    },
    "kernelspec": {
      "display_name": "Python 3",
      "name": "python3"
    },
    "language_info": {
      "name": "python"
    }
  },
  "cells": [
    {
      "cell_type": "code",
      "metadata": {
        "colab": {
          "base_uri": "https://localhost:8080/",
          "height": 354
        },
        "id": "EG-sUUUZnzc8",
        "outputId": "60809f14-9030-48b3-a710-5f033c5de4b1"
      },
      "source": [
        "import pandas as pd\n",
        "df = pd.read_csv(\"/content/drive/MyDrive/orcas_query_dom.tsv\",sep=\"\\t\")\n",
        "df.head()"
      ],
      "execution_count": null,
      "outputs": [
        {
          "output_type": "execute_result",
          "data": {
            "text/html": [
              "\n",
              "  <div id=\"df-17c33836-60d4-429c-905d-4bddfc9ec391\">\n",
              "    <div class=\"colab-df-container\">\n",
              "      <div>\n",
              "<style scoped>\n",
              "    .dataframe tbody tr th:only-of-type {\n",
              "        vertical-align: middle;\n",
              "    }\n",
              "\n",
              "    .dataframe tbody tr th {\n",
              "        vertical-align: top;\n",
              "    }\n",
              "\n",
              "    .dataframe thead th {\n",
              "        text-align: right;\n",
              "    }\n",
              "</style>\n",
              "<table border=\"1\" class=\"dataframe\">\n",
              "  <thead>\n",
              "    <tr style=\"text-align: right;\">\n",
              "      <th></th>\n",
              "      <th>Unnamed: 0</th>\n",
              "      <th>qid</th>\n",
              "      <th>query</th>\n",
              "      <th>did</th>\n",
              "      <th>url</th>\n",
              "      <th>Level_1</th>\n",
              "      <th>Level_2</th>\n",
              "      <th>Label</th>\n",
              "      <th>data_type</th>\n",
              "      <th>domain_names</th>\n",
              "      <th>query_url</th>\n",
              "    </tr>\n",
              "  </thead>\n",
              "  <tbody>\n",
              "    <tr>\n",
              "      <th>0</th>\n",
              "      <td>0</td>\n",
              "      <td>3754704</td>\n",
              "      <td>colonialism in australia</td>\n",
              "      <td>D3262459</td>\n",
              "      <td>https://www.awm.gov.au/articles/atwar/colonial</td>\n",
              "      <td>Abstain</td>\n",
              "      <td>Abstain</td>\n",
              "      <td>Abstain</td>\n",
              "      <td>train</td>\n",
              "      <td>awm au</td>\n",
              "      <td>query : colonialism in australia url : awm au</td>\n",
              "    </tr>\n",
              "    <tr>\n",
              "      <th>1</th>\n",
              "      <td>1</td>\n",
              "      <td>12550690</td>\n",
              "      <td>hemontona</td>\n",
              "      <td>D204862</td>\n",
              "      <td>https://en.wikipedia.org/wiki/Hematoma</td>\n",
              "      <td>Abstain</td>\n",
              "      <td>Factual</td>\n",
              "      <td>Factual</td>\n",
              "      <td>validation</td>\n",
              "      <td>en wikipedia</td>\n",
              "      <td>query : hemontona url : en wikipedia</td>\n",
              "    </tr>\n",
              "    <tr>\n",
              "      <th>2</th>\n",
              "      <td>2</td>\n",
              "      <td>11590545</td>\n",
              "      <td>maglite parts</td>\n",
              "      <td>D3031498</td>\n",
              "      <td>http://maglite.com/</td>\n",
              "      <td>Navigational</td>\n",
              "      <td>Abstain</td>\n",
              "      <td>Navigational</td>\n",
              "      <td>validation</td>\n",
              "      <td>maglite</td>\n",
              "      <td>query : maglite parts url : maglite</td>\n",
              "    </tr>\n",
              "    <tr>\n",
              "      <th>3</th>\n",
              "      <td>3</td>\n",
              "      <td>4594612</td>\n",
              "      <td>intel.idbi bank .com</td>\n",
              "      <td>D201597</td>\n",
              "      <td>https://inet.idbibank.co.in/</td>\n",
              "      <td>Navigational</td>\n",
              "      <td>Abstain</td>\n",
              "      <td>Navigational</td>\n",
              "      <td>train</td>\n",
              "      <td>inet idbibank co in</td>\n",
              "      <td>query : intel.idbi bank .com url : inet idbiba...</td>\n",
              "    </tr>\n",
              "    <tr>\n",
              "      <th>4</th>\n",
              "      <td>4</td>\n",
              "      <td>9651240</td>\n",
              "      <td>how do landlords report to credit bureaus</td>\n",
              "      <td>D1786282</td>\n",
              "      <td>http://www.experian.com/rentbureau/rental-repo...</td>\n",
              "      <td>Abstain</td>\n",
              "      <td>Instrumental</td>\n",
              "      <td>Instrumental</td>\n",
              "      <td>train</td>\n",
              "      <td>experian</td>\n",
              "      <td>query : how do landlords report to credit bure...</td>\n",
              "    </tr>\n",
              "  </tbody>\n",
              "</table>\n",
              "</div>\n",
              "      <button class=\"colab-df-convert\" onclick=\"convertToInteractive('df-17c33836-60d4-429c-905d-4bddfc9ec391')\"\n",
              "              title=\"Convert this dataframe to an interactive table.\"\n",
              "              style=\"display:none;\">\n",
              "        \n",
              "  <svg xmlns=\"http://www.w3.org/2000/svg\" height=\"24px\"viewBox=\"0 0 24 24\"\n",
              "       width=\"24px\">\n",
              "    <path d=\"M0 0h24v24H0V0z\" fill=\"none\"/>\n",
              "    <path d=\"M18.56 5.44l.94 2.06.94-2.06 2.06-.94-2.06-.94-.94-2.06-.94 2.06-2.06.94zm-11 1L8.5 8.5l.94-2.06 2.06-.94-2.06-.94L8.5 2.5l-.94 2.06-2.06.94zm10 10l.94 2.06.94-2.06 2.06-.94-2.06-.94-.94-2.06-.94 2.06-2.06.94z\"/><path d=\"M17.41 7.96l-1.37-1.37c-.4-.4-.92-.59-1.43-.59-.52 0-1.04.2-1.43.59L10.3 9.45l-7.72 7.72c-.78.78-.78 2.05 0 2.83L4 21.41c.39.39.9.59 1.41.59.51 0 1.02-.2 1.41-.59l7.78-7.78 2.81-2.81c.8-.78.8-2.07 0-2.86zM5.41 20L4 18.59l7.72-7.72 1.47 1.35L5.41 20z\"/>\n",
              "  </svg>\n",
              "      </button>\n",
              "      \n",
              "  <style>\n",
              "    .colab-df-container {\n",
              "      display:flex;\n",
              "      flex-wrap:wrap;\n",
              "      gap: 12px;\n",
              "    }\n",
              "\n",
              "    .colab-df-convert {\n",
              "      background-color: #E8F0FE;\n",
              "      border: none;\n",
              "      border-radius: 50%;\n",
              "      cursor: pointer;\n",
              "      display: none;\n",
              "      fill: #1967D2;\n",
              "      height: 32px;\n",
              "      padding: 0 0 0 0;\n",
              "      width: 32px;\n",
              "    }\n",
              "\n",
              "    .colab-df-convert:hover {\n",
              "      background-color: #E2EBFA;\n",
              "      box-shadow: 0px 1px 2px rgba(60, 64, 67, 0.3), 0px 1px 3px 1px rgba(60, 64, 67, 0.15);\n",
              "      fill: #174EA6;\n",
              "    }\n",
              "\n",
              "    [theme=dark] .colab-df-convert {\n",
              "      background-color: #3B4455;\n",
              "      fill: #D2E3FC;\n",
              "    }\n",
              "\n",
              "    [theme=dark] .colab-df-convert:hover {\n",
              "      background-color: #434B5C;\n",
              "      box-shadow: 0px 1px 3px 1px rgba(0, 0, 0, 0.15);\n",
              "      filter: drop-shadow(0px 1px 2px rgba(0, 0, 0, 0.3));\n",
              "      fill: #FFFFFF;\n",
              "    }\n",
              "  </style>\n",
              "\n",
              "      <script>\n",
              "        const buttonEl =\n",
              "          document.querySelector('#df-17c33836-60d4-429c-905d-4bddfc9ec391 button.colab-df-convert');\n",
              "        buttonEl.style.display =\n",
              "          google.colab.kernel.accessAllowed ? 'block' : 'none';\n",
              "\n",
              "        async function convertToInteractive(key) {\n",
              "          const element = document.querySelector('#df-17c33836-60d4-429c-905d-4bddfc9ec391');\n",
              "          const dataTable =\n",
              "            await google.colab.kernel.invokeFunction('convertToInteractive',\n",
              "                                                     [key], {});\n",
              "          if (!dataTable) return;\n",
              "\n",
              "          const docLinkHtml = 'Like what you see? Visit the ' +\n",
              "            '<a target=\"_blank\" href=https://colab.research.google.com/notebooks/data_table.ipynb>data table notebook</a>'\n",
              "            + ' to learn more about interactive tables.';\n",
              "          element.innerHTML = '';\n",
              "          dataTable['output_type'] = 'display_data';\n",
              "          await google.colab.output.renderOutput(dataTable, element);\n",
              "          const docLink = document.createElement('div');\n",
              "          docLink.innerHTML = docLinkHtml;\n",
              "          element.appendChild(docLink);\n",
              "        }\n",
              "      </script>\n",
              "    </div>\n",
              "  </div>\n",
              "  "
            ],
            "text/plain": [
              "   Unnamed: 0  ...                                          query_url\n",
              "0           0  ...      query : colonialism in australia url : awm au\n",
              "1           1  ...               query : hemontona url : en wikipedia\n",
              "2           2  ...                query : maglite parts url : maglite\n",
              "3           3  ...  query : intel.idbi bank .com url : inet idbiba...\n",
              "4           4  ...  query : how do landlords report to credit bure...\n",
              "\n",
              "[5 rows x 11 columns]"
            ]
          },
          "metadata": {},
          "execution_count": 1
        }
      ]
    },
    {
      "cell_type": "code",
      "metadata": {
        "colab": {
          "base_uri": "https://localhost:8080/",
          "height": 354
        },
        "id": "EhFyKPSYo0I3",
        "outputId": "34346924-860e-492a-a576-75dd85fee7ff"
      },
      "source": [
        "df = df[pd.notnull(df['query'])]\n",
        "df.head()"
      ],
      "execution_count": null,
      "outputs": [
        {
          "output_type": "execute_result",
          "data": {
            "text/html": [
              "\n",
              "  <div id=\"df-d32f060b-6625-408a-a5f6-f09891b8c828\">\n",
              "    <div class=\"colab-df-container\">\n",
              "      <div>\n",
              "<style scoped>\n",
              "    .dataframe tbody tr th:only-of-type {\n",
              "        vertical-align: middle;\n",
              "    }\n",
              "\n",
              "    .dataframe tbody tr th {\n",
              "        vertical-align: top;\n",
              "    }\n",
              "\n",
              "    .dataframe thead th {\n",
              "        text-align: right;\n",
              "    }\n",
              "</style>\n",
              "<table border=\"1\" class=\"dataframe\">\n",
              "  <thead>\n",
              "    <tr style=\"text-align: right;\">\n",
              "      <th></th>\n",
              "      <th>Unnamed: 0</th>\n",
              "      <th>qid</th>\n",
              "      <th>query</th>\n",
              "      <th>did</th>\n",
              "      <th>url</th>\n",
              "      <th>Level_1</th>\n",
              "      <th>Level_2</th>\n",
              "      <th>Label</th>\n",
              "      <th>data_type</th>\n",
              "      <th>domain_names</th>\n",
              "      <th>query_url</th>\n",
              "    </tr>\n",
              "  </thead>\n",
              "  <tbody>\n",
              "    <tr>\n",
              "      <th>0</th>\n",
              "      <td>0</td>\n",
              "      <td>3754704</td>\n",
              "      <td>colonialism in australia</td>\n",
              "      <td>D3262459</td>\n",
              "      <td>https://www.awm.gov.au/articles/atwar/colonial</td>\n",
              "      <td>Abstain</td>\n",
              "      <td>Abstain</td>\n",
              "      <td>Abstain</td>\n",
              "      <td>train</td>\n",
              "      <td>awm au</td>\n",
              "      <td>query : colonialism in australia url : awm au</td>\n",
              "    </tr>\n",
              "    <tr>\n",
              "      <th>1</th>\n",
              "      <td>1</td>\n",
              "      <td>12550690</td>\n",
              "      <td>hemontona</td>\n",
              "      <td>D204862</td>\n",
              "      <td>https://en.wikipedia.org/wiki/Hematoma</td>\n",
              "      <td>Abstain</td>\n",
              "      <td>Factual</td>\n",
              "      <td>Factual</td>\n",
              "      <td>validation</td>\n",
              "      <td>en wikipedia</td>\n",
              "      <td>query : hemontona url : en wikipedia</td>\n",
              "    </tr>\n",
              "    <tr>\n",
              "      <th>2</th>\n",
              "      <td>2</td>\n",
              "      <td>11590545</td>\n",
              "      <td>maglite parts</td>\n",
              "      <td>D3031498</td>\n",
              "      <td>http://maglite.com/</td>\n",
              "      <td>Navigational</td>\n",
              "      <td>Abstain</td>\n",
              "      <td>Navigational</td>\n",
              "      <td>validation</td>\n",
              "      <td>maglite</td>\n",
              "      <td>query : maglite parts url : maglite</td>\n",
              "    </tr>\n",
              "    <tr>\n",
              "      <th>3</th>\n",
              "      <td>3</td>\n",
              "      <td>4594612</td>\n",
              "      <td>intel.idbi bank .com</td>\n",
              "      <td>D201597</td>\n",
              "      <td>https://inet.idbibank.co.in/</td>\n",
              "      <td>Navigational</td>\n",
              "      <td>Abstain</td>\n",
              "      <td>Navigational</td>\n",
              "      <td>train</td>\n",
              "      <td>inet idbibank co in</td>\n",
              "      <td>query : intel.idbi bank .com url : inet idbiba...</td>\n",
              "    </tr>\n",
              "    <tr>\n",
              "      <th>4</th>\n",
              "      <td>4</td>\n",
              "      <td>9651240</td>\n",
              "      <td>how do landlords report to credit bureaus</td>\n",
              "      <td>D1786282</td>\n",
              "      <td>http://www.experian.com/rentbureau/rental-repo...</td>\n",
              "      <td>Abstain</td>\n",
              "      <td>Instrumental</td>\n",
              "      <td>Instrumental</td>\n",
              "      <td>train</td>\n",
              "      <td>experian</td>\n",
              "      <td>query : how do landlords report to credit bure...</td>\n",
              "    </tr>\n",
              "  </tbody>\n",
              "</table>\n",
              "</div>\n",
              "      <button class=\"colab-df-convert\" onclick=\"convertToInteractive('df-d32f060b-6625-408a-a5f6-f09891b8c828')\"\n",
              "              title=\"Convert this dataframe to an interactive table.\"\n",
              "              style=\"display:none;\">\n",
              "        \n",
              "  <svg xmlns=\"http://www.w3.org/2000/svg\" height=\"24px\"viewBox=\"0 0 24 24\"\n",
              "       width=\"24px\">\n",
              "    <path d=\"M0 0h24v24H0V0z\" fill=\"none\"/>\n",
              "    <path d=\"M18.56 5.44l.94 2.06.94-2.06 2.06-.94-2.06-.94-.94-2.06-.94 2.06-2.06.94zm-11 1L8.5 8.5l.94-2.06 2.06-.94-2.06-.94L8.5 2.5l-.94 2.06-2.06.94zm10 10l.94 2.06.94-2.06 2.06-.94-2.06-.94-.94-2.06-.94 2.06-2.06.94z\"/><path d=\"M17.41 7.96l-1.37-1.37c-.4-.4-.92-.59-1.43-.59-.52 0-1.04.2-1.43.59L10.3 9.45l-7.72 7.72c-.78.78-.78 2.05 0 2.83L4 21.41c.39.39.9.59 1.41.59.51 0 1.02-.2 1.41-.59l7.78-7.78 2.81-2.81c.8-.78.8-2.07 0-2.86zM5.41 20L4 18.59l7.72-7.72 1.47 1.35L5.41 20z\"/>\n",
              "  </svg>\n",
              "      </button>\n",
              "      \n",
              "  <style>\n",
              "    .colab-df-container {\n",
              "      display:flex;\n",
              "      flex-wrap:wrap;\n",
              "      gap: 12px;\n",
              "    }\n",
              "\n",
              "    .colab-df-convert {\n",
              "      background-color: #E8F0FE;\n",
              "      border: none;\n",
              "      border-radius: 50%;\n",
              "      cursor: pointer;\n",
              "      display: none;\n",
              "      fill: #1967D2;\n",
              "      height: 32px;\n",
              "      padding: 0 0 0 0;\n",
              "      width: 32px;\n",
              "    }\n",
              "\n",
              "    .colab-df-convert:hover {\n",
              "      background-color: #E2EBFA;\n",
              "      box-shadow: 0px 1px 2px rgba(60, 64, 67, 0.3), 0px 1px 3px 1px rgba(60, 64, 67, 0.15);\n",
              "      fill: #174EA6;\n",
              "    }\n",
              "\n",
              "    [theme=dark] .colab-df-convert {\n",
              "      background-color: #3B4455;\n",
              "      fill: #D2E3FC;\n",
              "    }\n",
              "\n",
              "    [theme=dark] .colab-df-convert:hover {\n",
              "      background-color: #434B5C;\n",
              "      box-shadow: 0px 1px 3px 1px rgba(0, 0, 0, 0.15);\n",
              "      filter: drop-shadow(0px 1px 2px rgba(0, 0, 0, 0.3));\n",
              "      fill: #FFFFFF;\n",
              "    }\n",
              "  </style>\n",
              "\n",
              "      <script>\n",
              "        const buttonEl =\n",
              "          document.querySelector('#df-d32f060b-6625-408a-a5f6-f09891b8c828 button.colab-df-convert');\n",
              "        buttonEl.style.display =\n",
              "          google.colab.kernel.accessAllowed ? 'block' : 'none';\n",
              "\n",
              "        async function convertToInteractive(key) {\n",
              "          const element = document.querySelector('#df-d32f060b-6625-408a-a5f6-f09891b8c828');\n",
              "          const dataTable =\n",
              "            await google.colab.kernel.invokeFunction('convertToInteractive',\n",
              "                                                     [key], {});\n",
              "          if (!dataTable) return;\n",
              "\n",
              "          const docLinkHtml = 'Like what you see? Visit the ' +\n",
              "            '<a target=\"_blank\" href=https://colab.research.google.com/notebooks/data_table.ipynb>data table notebook</a>'\n",
              "            + ' to learn more about interactive tables.';\n",
              "          element.innerHTML = '';\n",
              "          dataTable['output_type'] = 'display_data';\n",
              "          await google.colab.output.renderOutput(dataTable, element);\n",
              "          const docLink = document.createElement('div');\n",
              "          docLink.innerHTML = docLinkHtml;\n",
              "          element.appendChild(docLink);\n",
              "        }\n",
              "      </script>\n",
              "    </div>\n",
              "  </div>\n",
              "  "
            ],
            "text/plain": [
              "   Unnamed: 0  ...                                          query_url\n",
              "0           0  ...      query : colonialism in australia url : awm au\n",
              "1           1  ...               query : hemontona url : en wikipedia\n",
              "2           2  ...                query : maglite parts url : maglite\n",
              "3           3  ...  query : intel.idbi bank .com url : inet idbiba...\n",
              "4           4  ...  query : how do landlords report to credit bure...\n",
              "\n",
              "[5 rows x 11 columns]"
            ]
          },
          "metadata": {},
          "execution_count": 2
        }
      ]
    },
    {
      "cell_type": "code",
      "metadata": {
        "colab": {
          "base_uri": "https://localhost:8080/",
          "height": 206
        },
        "id": "IrCDJy-Qo_xt",
        "outputId": "69c4bef2-3f23-4ee5-c4fa-d07f38251813"
      },
      "source": [
        "\n",
        "col = ['Level_1', 'query_url','data_type']\n",
        "df = df[col]\n",
        "df.head()\n"
      ],
      "execution_count": null,
      "outputs": [
        {
          "output_type": "execute_result",
          "data": {
            "text/html": [
              "\n",
              "  <div id=\"df-f6cb95ba-fa63-495c-a51f-751d75ea5db0\">\n",
              "    <div class=\"colab-df-container\">\n",
              "      <div>\n",
              "<style scoped>\n",
              "    .dataframe tbody tr th:only-of-type {\n",
              "        vertical-align: middle;\n",
              "    }\n",
              "\n",
              "    .dataframe tbody tr th {\n",
              "        vertical-align: top;\n",
              "    }\n",
              "\n",
              "    .dataframe thead th {\n",
              "        text-align: right;\n",
              "    }\n",
              "</style>\n",
              "<table border=\"1\" class=\"dataframe\">\n",
              "  <thead>\n",
              "    <tr style=\"text-align: right;\">\n",
              "      <th></th>\n",
              "      <th>Level_1</th>\n",
              "      <th>query_url</th>\n",
              "      <th>data_type</th>\n",
              "    </tr>\n",
              "  </thead>\n",
              "  <tbody>\n",
              "    <tr>\n",
              "      <th>0</th>\n",
              "      <td>Abstain</td>\n",
              "      <td>query : colonialism in australia url : awm au</td>\n",
              "      <td>train</td>\n",
              "    </tr>\n",
              "    <tr>\n",
              "      <th>1</th>\n",
              "      <td>Abstain</td>\n",
              "      <td>query : hemontona url : en wikipedia</td>\n",
              "      <td>validation</td>\n",
              "    </tr>\n",
              "    <tr>\n",
              "      <th>2</th>\n",
              "      <td>Navigational</td>\n",
              "      <td>query : maglite parts url : maglite</td>\n",
              "      <td>validation</td>\n",
              "    </tr>\n",
              "    <tr>\n",
              "      <th>3</th>\n",
              "      <td>Navigational</td>\n",
              "      <td>query : intel.idbi bank .com url : inet idbiba...</td>\n",
              "      <td>train</td>\n",
              "    </tr>\n",
              "    <tr>\n",
              "      <th>4</th>\n",
              "      <td>Abstain</td>\n",
              "      <td>query : how do landlords report to credit bure...</td>\n",
              "      <td>train</td>\n",
              "    </tr>\n",
              "  </tbody>\n",
              "</table>\n",
              "</div>\n",
              "      <button class=\"colab-df-convert\" onclick=\"convertToInteractive('df-f6cb95ba-fa63-495c-a51f-751d75ea5db0')\"\n",
              "              title=\"Convert this dataframe to an interactive table.\"\n",
              "              style=\"display:none;\">\n",
              "        \n",
              "  <svg xmlns=\"http://www.w3.org/2000/svg\" height=\"24px\"viewBox=\"0 0 24 24\"\n",
              "       width=\"24px\">\n",
              "    <path d=\"M0 0h24v24H0V0z\" fill=\"none\"/>\n",
              "    <path d=\"M18.56 5.44l.94 2.06.94-2.06 2.06-.94-2.06-.94-.94-2.06-.94 2.06-2.06.94zm-11 1L8.5 8.5l.94-2.06 2.06-.94-2.06-.94L8.5 2.5l-.94 2.06-2.06.94zm10 10l.94 2.06.94-2.06 2.06-.94-2.06-.94-.94-2.06-.94 2.06-2.06.94z\"/><path d=\"M17.41 7.96l-1.37-1.37c-.4-.4-.92-.59-1.43-.59-.52 0-1.04.2-1.43.59L10.3 9.45l-7.72 7.72c-.78.78-.78 2.05 0 2.83L4 21.41c.39.39.9.59 1.41.59.51 0 1.02-.2 1.41-.59l7.78-7.78 2.81-2.81c.8-.78.8-2.07 0-2.86zM5.41 20L4 18.59l7.72-7.72 1.47 1.35L5.41 20z\"/>\n",
              "  </svg>\n",
              "      </button>\n",
              "      \n",
              "  <style>\n",
              "    .colab-df-container {\n",
              "      display:flex;\n",
              "      flex-wrap:wrap;\n",
              "      gap: 12px;\n",
              "    }\n",
              "\n",
              "    .colab-df-convert {\n",
              "      background-color: #E8F0FE;\n",
              "      border: none;\n",
              "      border-radius: 50%;\n",
              "      cursor: pointer;\n",
              "      display: none;\n",
              "      fill: #1967D2;\n",
              "      height: 32px;\n",
              "      padding: 0 0 0 0;\n",
              "      width: 32px;\n",
              "    }\n",
              "\n",
              "    .colab-df-convert:hover {\n",
              "      background-color: #E2EBFA;\n",
              "      box-shadow: 0px 1px 2px rgba(60, 64, 67, 0.3), 0px 1px 3px 1px rgba(60, 64, 67, 0.15);\n",
              "      fill: #174EA6;\n",
              "    }\n",
              "\n",
              "    [theme=dark] .colab-df-convert {\n",
              "      background-color: #3B4455;\n",
              "      fill: #D2E3FC;\n",
              "    }\n",
              "\n",
              "    [theme=dark] .colab-df-convert:hover {\n",
              "      background-color: #434B5C;\n",
              "      box-shadow: 0px 1px 3px 1px rgba(0, 0, 0, 0.15);\n",
              "      filter: drop-shadow(0px 1px 2px rgba(0, 0, 0, 0.3));\n",
              "      fill: #FFFFFF;\n",
              "    }\n",
              "  </style>\n",
              "\n",
              "      <script>\n",
              "        const buttonEl =\n",
              "          document.querySelector('#df-f6cb95ba-fa63-495c-a51f-751d75ea5db0 button.colab-df-convert');\n",
              "        buttonEl.style.display =\n",
              "          google.colab.kernel.accessAllowed ? 'block' : 'none';\n",
              "\n",
              "        async function convertToInteractive(key) {\n",
              "          const element = document.querySelector('#df-f6cb95ba-fa63-495c-a51f-751d75ea5db0');\n",
              "          const dataTable =\n",
              "            await google.colab.kernel.invokeFunction('convertToInteractive',\n",
              "                                                     [key], {});\n",
              "          if (!dataTable) return;\n",
              "\n",
              "          const docLinkHtml = 'Like what you see? Visit the ' +\n",
              "            '<a target=\"_blank\" href=https://colab.research.google.com/notebooks/data_table.ipynb>data table notebook</a>'\n",
              "            + ' to learn more about interactive tables.';\n",
              "          element.innerHTML = '';\n",
              "          dataTable['output_type'] = 'display_data';\n",
              "          await google.colab.output.renderOutput(dataTable, element);\n",
              "          const docLink = document.createElement('div');\n",
              "          docLink.innerHTML = docLinkHtml;\n",
              "          element.appendChild(docLink);\n",
              "        }\n",
              "      </script>\n",
              "    </div>\n",
              "  </div>\n",
              "  "
            ],
            "text/plain": [
              "        Level_1                                          query_url   data_type\n",
              "0       Abstain      query : colonialism in australia url : awm au       train\n",
              "1       Abstain               query : hemontona url : en wikipedia  validation\n",
              "2  Navigational                query : maglite parts url : maglite  validation\n",
              "3  Navigational  query : intel.idbi bank .com url : inet idbiba...       train\n",
              "4       Abstain  query : how do landlords report to credit bure...       train"
            ]
          },
          "metadata": {},
          "execution_count": 3
        }
      ]
    },
    {
      "cell_type": "code",
      "metadata": {
        "colab": {
          "base_uri": "https://localhost:8080/"
        },
        "id": "PkiSGvmwpEsV",
        "outputId": "5378aab4-bfa7-43f5-af74-bd58b88050e0"
      },
      "source": [
        "df.columns"
      ],
      "execution_count": null,
      "outputs": [
        {
          "output_type": "execute_result",
          "data": {
            "text/plain": [
              "Index(['Level_1', 'query_url', 'data_type'], dtype='object')"
            ]
          },
          "metadata": {},
          "execution_count": 4
        }
      ]
    },
    {
      "cell_type": "code",
      "metadata": {
        "id": "giVdjCcHpJPe"
      },
      "source": [
        "df['category_id'] = df['Level_1'].factorize()[0]"
      ],
      "execution_count": null,
      "outputs": []
    },
    {
      "cell_type": "code",
      "metadata": {
        "colab": {
          "base_uri": "https://localhost:8080/",
          "height": 206
        },
        "id": "d9TsG9-spMp1",
        "outputId": "dab46da2-6f6b-462b-cce2-72d9b6beaef2"
      },
      "source": [
        "df.head()"
      ],
      "execution_count": null,
      "outputs": [
        {
          "output_type": "execute_result",
          "data": {
            "text/html": [
              "\n",
              "  <div id=\"df-b501f4b0-e2cc-4ef7-baf3-9c5afc276885\">\n",
              "    <div class=\"colab-df-container\">\n",
              "      <div>\n",
              "<style scoped>\n",
              "    .dataframe tbody tr th:only-of-type {\n",
              "        vertical-align: middle;\n",
              "    }\n",
              "\n",
              "    .dataframe tbody tr th {\n",
              "        vertical-align: top;\n",
              "    }\n",
              "\n",
              "    .dataframe thead th {\n",
              "        text-align: right;\n",
              "    }\n",
              "</style>\n",
              "<table border=\"1\" class=\"dataframe\">\n",
              "  <thead>\n",
              "    <tr style=\"text-align: right;\">\n",
              "      <th></th>\n",
              "      <th>Level_1</th>\n",
              "      <th>query_url</th>\n",
              "      <th>data_type</th>\n",
              "      <th>category_id</th>\n",
              "    </tr>\n",
              "  </thead>\n",
              "  <tbody>\n",
              "    <tr>\n",
              "      <th>0</th>\n",
              "      <td>Abstain</td>\n",
              "      <td>query : colonialism in australia url : awm au</td>\n",
              "      <td>train</td>\n",
              "      <td>0</td>\n",
              "    </tr>\n",
              "    <tr>\n",
              "      <th>1</th>\n",
              "      <td>Abstain</td>\n",
              "      <td>query : hemontona url : en wikipedia</td>\n",
              "      <td>validation</td>\n",
              "      <td>0</td>\n",
              "    </tr>\n",
              "    <tr>\n",
              "      <th>2</th>\n",
              "      <td>Navigational</td>\n",
              "      <td>query : maglite parts url : maglite</td>\n",
              "      <td>validation</td>\n",
              "      <td>1</td>\n",
              "    </tr>\n",
              "    <tr>\n",
              "      <th>3</th>\n",
              "      <td>Navigational</td>\n",
              "      <td>query : intel.idbi bank .com url : inet idbiba...</td>\n",
              "      <td>train</td>\n",
              "      <td>1</td>\n",
              "    </tr>\n",
              "    <tr>\n",
              "      <th>4</th>\n",
              "      <td>Abstain</td>\n",
              "      <td>query : how do landlords report to credit bure...</td>\n",
              "      <td>train</td>\n",
              "      <td>0</td>\n",
              "    </tr>\n",
              "  </tbody>\n",
              "</table>\n",
              "</div>\n",
              "      <button class=\"colab-df-convert\" onclick=\"convertToInteractive('df-b501f4b0-e2cc-4ef7-baf3-9c5afc276885')\"\n",
              "              title=\"Convert this dataframe to an interactive table.\"\n",
              "              style=\"display:none;\">\n",
              "        \n",
              "  <svg xmlns=\"http://www.w3.org/2000/svg\" height=\"24px\"viewBox=\"0 0 24 24\"\n",
              "       width=\"24px\">\n",
              "    <path d=\"M0 0h24v24H0V0z\" fill=\"none\"/>\n",
              "    <path d=\"M18.56 5.44l.94 2.06.94-2.06 2.06-.94-2.06-.94-.94-2.06-.94 2.06-2.06.94zm-11 1L8.5 8.5l.94-2.06 2.06-.94-2.06-.94L8.5 2.5l-.94 2.06-2.06.94zm10 10l.94 2.06.94-2.06 2.06-.94-2.06-.94-.94-2.06-.94 2.06-2.06.94z\"/><path d=\"M17.41 7.96l-1.37-1.37c-.4-.4-.92-.59-1.43-.59-.52 0-1.04.2-1.43.59L10.3 9.45l-7.72 7.72c-.78.78-.78 2.05 0 2.83L4 21.41c.39.39.9.59 1.41.59.51 0 1.02-.2 1.41-.59l7.78-7.78 2.81-2.81c.8-.78.8-2.07 0-2.86zM5.41 20L4 18.59l7.72-7.72 1.47 1.35L5.41 20z\"/>\n",
              "  </svg>\n",
              "      </button>\n",
              "      \n",
              "  <style>\n",
              "    .colab-df-container {\n",
              "      display:flex;\n",
              "      flex-wrap:wrap;\n",
              "      gap: 12px;\n",
              "    }\n",
              "\n",
              "    .colab-df-convert {\n",
              "      background-color: #E8F0FE;\n",
              "      border: none;\n",
              "      border-radius: 50%;\n",
              "      cursor: pointer;\n",
              "      display: none;\n",
              "      fill: #1967D2;\n",
              "      height: 32px;\n",
              "      padding: 0 0 0 0;\n",
              "      width: 32px;\n",
              "    }\n",
              "\n",
              "    .colab-df-convert:hover {\n",
              "      background-color: #E2EBFA;\n",
              "      box-shadow: 0px 1px 2px rgba(60, 64, 67, 0.3), 0px 1px 3px 1px rgba(60, 64, 67, 0.15);\n",
              "      fill: #174EA6;\n",
              "    }\n",
              "\n",
              "    [theme=dark] .colab-df-convert {\n",
              "      background-color: #3B4455;\n",
              "      fill: #D2E3FC;\n",
              "    }\n",
              "\n",
              "    [theme=dark] .colab-df-convert:hover {\n",
              "      background-color: #434B5C;\n",
              "      box-shadow: 0px 1px 3px 1px rgba(0, 0, 0, 0.15);\n",
              "      filter: drop-shadow(0px 1px 2px rgba(0, 0, 0, 0.3));\n",
              "      fill: #FFFFFF;\n",
              "    }\n",
              "  </style>\n",
              "\n",
              "      <script>\n",
              "        const buttonEl =\n",
              "          document.querySelector('#df-b501f4b0-e2cc-4ef7-baf3-9c5afc276885 button.colab-df-convert');\n",
              "        buttonEl.style.display =\n",
              "          google.colab.kernel.accessAllowed ? 'block' : 'none';\n",
              "\n",
              "        async function convertToInteractive(key) {\n",
              "          const element = document.querySelector('#df-b501f4b0-e2cc-4ef7-baf3-9c5afc276885');\n",
              "          const dataTable =\n",
              "            await google.colab.kernel.invokeFunction('convertToInteractive',\n",
              "                                                     [key], {});\n",
              "          if (!dataTable) return;\n",
              "\n",
              "          const docLinkHtml = 'Like what you see? Visit the ' +\n",
              "            '<a target=\"_blank\" href=https://colab.research.google.com/notebooks/data_table.ipynb>data table notebook</a>'\n",
              "            + ' to learn more about interactive tables.';\n",
              "          element.innerHTML = '';\n",
              "          dataTable['output_type'] = 'display_data';\n",
              "          await google.colab.output.renderOutput(dataTable, element);\n",
              "          const docLink = document.createElement('div');\n",
              "          docLink.innerHTML = docLinkHtml;\n",
              "          element.appendChild(docLink);\n",
              "        }\n",
              "      </script>\n",
              "    </div>\n",
              "  </div>\n",
              "  "
            ],
            "text/plain": [
              "        Level_1  ... category_id\n",
              "0       Abstain  ...           0\n",
              "1       Abstain  ...           0\n",
              "2  Navigational  ...           1\n",
              "3  Navigational  ...           1\n",
              "4       Abstain  ...           0\n",
              "\n",
              "[5 rows x 4 columns]"
            ]
          },
          "metadata": {},
          "execution_count": 6
        }
      ]
    },
    {
      "cell_type": "code",
      "metadata": {
        "id": "BuPhd7_kpRmG"
      },
      "source": [
        "category_id_df = df[['Level_1', 'category_id']].drop_duplicates().sort_values('category_id')"
      ],
      "execution_count": null,
      "outputs": []
    },
    {
      "cell_type": "code",
      "metadata": {
        "id": "j4-4brEkpWxT"
      },
      "source": [
        "category_to_id = dict(category_id_df.values)"
      ],
      "execution_count": null,
      "outputs": []
    },
    {
      "cell_type": "code",
      "metadata": {
        "id": "RUtfrJwspcE_"
      },
      "source": [
        "category_to_id"
      ],
      "execution_count": null,
      "outputs": []
    },
    {
      "cell_type": "code",
      "metadata": {
        "colab": {
          "base_uri": "https://localhost:8080/"
        },
        "id": "1GlZO_0fphi7",
        "outputId": "49996bea-7337-4163-c0ce-0146d1bcd9ea"
      },
      "source": [
        "id_to_category = dict(category_id_df[['category_id', 'Level_1']].values)\n",
        "id_to_category"
      ],
      "execution_count": null,
      "outputs": [
        {
          "output_type": "execute_result",
          "data": {
            "text/plain": [
              "{0: 'Abstain', 1: 'Navigational', 2: 'Transactional'}"
            ]
          },
          "metadata": {},
          "execution_count": 8
        }
      ]
    },
    {
      "cell_type": "code",
      "metadata": {
        "colab": {
          "base_uri": "https://localhost:8080/",
          "height": 456
        },
        "id": "3hE2Cjnvpmng",
        "outputId": "01e7afb2-c42a-4fca-fca3-ba963372cdb5"
      },
      "source": [
        "import matplotlib.pyplot as plt\n",
        "fig = plt.figure(figsize=(8,6))\n",
        "df.groupby('Level_1').query_url.count().plot.bar(ylim=0)\n",
        "plt.show()"
      ],
      "execution_count": null,
      "outputs": [
        {
          "output_type": "display_data",
          "data": {
            "image/png": "[encoded data removed]",
            "text/plain": [
              "<Figure size 576x432 with 1 Axes>"
            ]
          },
          "metadata": {
            "needs_background": "light"
          }
        }
      ]
    },
    {
      "cell_type": "code",
      "metadata": {
        "colab": {
          "base_uri": "https://localhost:8080/"
        },
        "id": "6m2auPjRprp3",
        "outputId": "a25ca525-c46a-4dea-d902-06463eb99498"
      },
      "source": [
        "from sklearn.feature_extraction.text import TfidfVectorizer\n",
        "\n",
        "tfidf = TfidfVectorizer(sublinear_tf=True, min_df=1, norm='l2', encoding='latin-1', ngram_range=(1, 2))\n",
        "print(tfidf)\n",
        "\n",
        "arr = df[\"query_url\"].to_numpy()\n",
        "features = tfidf.fit_transform(arr)\n",
        "labels = df.category_id\n",
        "features.shape\n",
        "\n",
        "df_train = df[df[\"data_type\"]== \"train\"]\n",
        "df_valid = df[df[\"data_type\"]== \"validation\"]\n",
        "df_valid.head()\n",
        "arr_train = df_train[\"query_url\"].to_numpy()\n",
        "X_train = tfidf.fit_transform(arr_train)\n",
        "print(type(X_train))\n",
        "arr_test = df_valid[\"query_url\"].to_numpy()\n",
        "X_test = tfidf.transform(arr_test)\n",
        "print(X_test)\n",
        "y_train = df_train.category_id\n",
        "y_test = df_valid.category_id\n",
        "print(X_train.size)\n",
        "print(y_train.size)\n",
        "print(X_test.size)\n",
        "print(y_test.size)\n",
        "labels = df.category_id\n",
        "features.shape\n",
        "labels\n",
        "\n"
      ],
      "execution_count": null,
      "outputs": [
        {
          "output_type": "stream",
          "name": "stdout",
          "text": [
            "TfidfVectorizer(encoding='latin-1', ngram_range=(1, 2), sublinear_tf=True)\n",
            "<class 'scipy.sparse.csr.csr_matrix'>\n",
            "  (0, 1934872)\t0.11296341600552692\n",
            "  (0, 1784923)\t0.11276286432222468\n",
            "  (0, 1756607)\t0.03848465106398574\n",
            "  (0, 1317479)\t0.5615821524485458\n",
            "  (0, 1242323)\t0.03848465106398574\n",
            "  (0, 701970)\t0.5615821524485458\n",
            "  (0, 701969)\t0.5615821524485458\n",
            "  (0, 514701)\t0.11317741275010146\n",
            "  (0, 514464)\t0.11237881355551094\n",
            "  (1, 1809072)\t0.4183963393516157\n",
            "  (1, 1756607)\t0.03136497441415012\n",
            "  (1, 1341184)\t0.4359486742219647\n",
            "  (1, 1242323)\t0.03136497441415012\n",
            "  (1, 1145442)\t0.27786311534797903\n",
            "  (1, 1145321)\t0.25273431204223407\n",
            "  (1, 921777)\t0.701315328555517\n",
            "  (2, 1832514)\t0.25792236379013184\n",
            "  (2, 1756607)\t0.027257408515242543\n",
            "  (2, 1606015)\t0.22832875321488946\n",
            "  (2, 1605915)\t0.21588778108301854\n",
            "  (2, 1518012)\t0.25605255145811956\n",
            "  (2, 1295298)\t0.25219720881106766\n",
            "  (2, 1242323)\t0.027257408515242543\n",
            "  (2, 1102959)\t0.32680753271004215\n",
            "  (2, 1102573)\t0.14857433862563185\n",
            "  :\t:\n",
            "  (399996, 1475942)\t0.3458872409330234\n",
            "  (399996, 1383347)\t0.4253632528717146\n",
            "  (399996, 1242323)\t0.035366133053541485\n",
            "  (399996, 915554)\t0.36607626686833306\n",
            "  (399997, 1810946)\t0.4536091314576726\n",
            "  (399997, 1756607)\t0.05734895494775867\n",
            "  (399997, 1676954)\t0.3666262951809146\n",
            "  (399997, 1242323)\t0.05734895494775867\n",
            "  (399997, 956443)\t0.4544410766456732\n",
            "  (399997, 956295)\t0.38392332837113613\n",
            "  (399997, 436425)\t0.429277063966496\n",
            "  (399997, 436307)\t0.33919536909395986\n",
            "  (399998, 1934872)\t0.11440031723404245\n",
            "  (399998, 1784923)\t0.11419721452165214\n",
            "  (399998, 1756607)\t0.038974178066162504\n",
            "  (399998, 1266544)\t0.35661175316366156\n",
            "  (399998, 1242323)\t0.038974178066162504\n",
            "  (399998, 843942)\t0.5687255101239744\n",
            "  (399998, 843859)\t0.3203638783856613\n",
            "  (399998, 549556)\t0.2897131488027472\n",
            "  (399998, 549475)\t0.26817422702597427\n",
            "  (399998, 514701)\t0.11461703602966723\n",
            "  (399998, 514464)\t0.11380827860682569\n",
            "  (399998, 353716)\t0.346166310714981\n",
            "  (399998, 220029)\t0.34030618424290365\n",
            "19584222\n",
            "1599999\n",
            "4572925\n",
            "399999\n"
          ]
        },
        {
          "output_type": "execute_result",
          "data": {
            "text/plain": [
              "0          0\n",
              "1          0\n",
              "2          1\n",
              "3          1\n",
              "4          0\n",
              "          ..\n",
              "1999995    0\n",
              "1999996    0\n",
              "1999997    1\n",
              "1999998    1\n",
              "1999999    0\n",
              "Name: category_id, Length: 1999998, dtype: int64"
            ]
          },
          "metadata": {},
          "execution_count": 10
        }
      ]
    },
    {
      "cell_type": "code",
      "metadata": {
        "colab": {
          "base_uri": "https://localhost:8080/"
        },
        "id": "L2D8SpxaaR_w",
        "outputId": "f22c7f85-e6c0-4d24-e4fb-151a1e1d35a4"
      },
      "source": [
        "import joblib\n",
        "\n",
        "joblib.dump(tfidf, '/content/drive/MyDrive/tfidf.pkl')"
      ],
      "execution_count": null,
      "outputs": [
        {
          "output_type": "execute_result",
          "data": {
            "text/plain": [
              "['/content/drive/MyDrive/tfidf_lr_1l_dom.pkl']"
            ]
          },
          "metadata": {},
          "execution_count": 11
        }
      ]
    },
    {
      "cell_type": "code",
      "metadata": {
        "id": "htuHqmoIvZ3X",
        "colab": {
          "base_uri": "https://localhost:8080/"
        },
        "outputId": "20b0bb2f-38ee-4cd0-bbc4-12f8c916be61"
      },
      "source": [
        "from sklearn import preprocessing\n",
        "scaler = preprocessing.StandardScaler(with_mean=False)\n",
        "X_train_stand = scaler.fit_transform(X_train)\n",
        "X_test_stand = scaler.transform(X_test)\n",
        "joblib.dump(scaler, '/content/drive/MyDrive/scaler.pkl')"
      ],
      "execution_count": null,
      "outputs": [
        {
          "output_type": "execute_result",
          "data": {
            "text/plain": [
              "['/content/drive/MyDrive/scaler_lr_1l_do.pkl']"
            ]
          },
          "metadata": {},
          "execution_count": 12
        }
      ]
    },
    {
      "cell_type": "code",
      "metadata": {
        "id": "VUgtn4OIp3gn",
        "colab": {
          "base_uri": "https://localhost:8080/"
        },
        "outputId": "6064adb6-0250-4f45-8809-e64fb063d386"
      },
      "source": [
        "from sklearn.linear_model import LogisticRegression\n",
        "from sklearn.svm import LinearSVC\n",
        "model = LinearSVC()\n",
        "#model = LogisticRegression()\n",
        "model.fit(X_train_stand, y_train)\n",
        "y_pred = model.predict(X_test_stand)"
      ],
      "execution_count": null,
      "outputs": [
        {
          "output_type": "stream",
          "name": "stderr",
          "text": [
            "/usr/local/lib/python3.7/dist-packages/sklearn/linear_model/_logistic.py:818: ConvergenceWarning: lbfgs failed to converge (status=1):\n",
            "STOP: TOTAL NO. of ITERATIONS REACHED LIMIT.\n",
            "\n",
            "Increase the number of iterations (max_iter) or scale the data as shown in:\n",
            "    https://scikit-learn.org/stable/modules/preprocessing.html\n",
            "Please also refer to the documentation for alternative solver options:\n",
            "    https://scikit-learn.org/stable/modules/linear_model.html#logistic-regression\n",
            "  extra_warning_msg=_LOGISTIC_SOLVER_CONVERGENCE_MSG,\n"
          ]
        }
      ]
    },
    {
      "cell_type": "code",
      "metadata": {
        "colab": {
          "base_uri": "https://localhost:8080/",
          "height": 388
        },
        "id": "cccOQKcWvBWY",
        "outputId": "9207b22b-eae6-4fd5-f0c8-5fe242e5424a"
      },
      "source": [
        "import seaborn as sns\n",
        "from sklearn.metrics import confusion_matrix\n",
        "\n",
        "conf_mat = confusion_matrix(y_test, y_pred)\n",
        "fig, ax = plt.subplots(figsize=(8,6))\n",
        "sns.heatmap(conf_mat, annot=True, fmt='d',\n",
        "            xticklabels=category_id_df.Level_1.values, yticklabels=category_id_df.Level_1.values)\n",
        "plt.ylabel('Actual')\n",
        "plt.xlabel('Predicted')\n",
        "plt.show()"
      ],
      "execution_count": null,
      "outputs": [
        {
          "output_type": "display_data",
          "data": {
            "image/png": "[encoded data removed]",
            "text/plain": [
              "<Figure size 576x432 with 2 Axes>"
            ]
          },
          "metadata": {
            "needs_background": "light"
          }
        }
      ]
    },
    {
      "cell_type": "code",
      "metadata": {
        "id": "2HFDNn1nB_PK",
        "colab": {
          "base_uri": "https://localhost:8080/"
        },
        "outputId": "54bb9ae5-2ae5-4bfd-ef36-dcc0292b219c"
      },
      "source": [
        "import joblib\n",
        "filename = '/content/drive/MyDrive/model_svm.sav'\n",
        "joblib.dump(model, filename)\n"
      ],
      "execution_count": null,
      "outputs": [
        {
          "output_type": "execute_result",
          "data": {
            "text/plain": [
              "['/content/drive/MyDrive/model_svc_lr_fl_do.sav']"
            ]
          },
          "metadata": {},
          "execution_count": 15
        }
      ]
    },
    {
      "cell_type": "markdown",
      "source": [
        ""
      ],
      "metadata": {
        "id": "2ESwmKH_4Crc"
      }
    },
    {
      "cell_type": "code",
      "source": [
        ""
      ],
      "metadata": {
        "id": "-MNox379zt8A"
      },
      "execution_count": null,
      "outputs": []
    },
    {
      "cell_type": "code",
      "metadata": {
        "id": "dsU7TyqgQ8tx"
      },
      "source": [
        "import joblib\n",
        "loaded_model = joblib.load('/content/drive/MyDrive/model_svm.sav')\n",
        "y_pr = loaded_model.predict(X_test_stand)"
      ],
      "execution_count": null,
      "outputs": []
    },
    {
      "cell_type": "code",
      "metadata": {
        "colab": {
          "base_uri": "https://localhost:8080/"
        },
        "id": "ZS7ov3HavFps",
        "outputId": "5d5bbe0d-be48-41a1-ce41-1a4edacba4b6"
      },
      "source": [
        "from sklearn import metrics\n",
        "print(metrics.classification_report(y_test, y_pr, \n",
        "                                    target_names=df['Level_1'].unique()))"
      ],
      "execution_count": null,
      "outputs": [
        {
          "output_type": "stream",
          "name": "stdout",
          "text": [
            "               precision    recall  f1-score   support\n",
            "\n",
            "      Abstain       0.93      0.95      0.94    325410\n",
            " Navigational       0.68      0.63      0.65     57922\n",
            "Transactional       0.98      0.88      0.93     16667\n",
            "\n",
            "     accuracy                           0.90    399999\n",
            "    macro avg       0.86      0.82      0.84    399999\n",
            " weighted avg       0.90      0.90      0.90    399999\n",
            "\n"
          ]
        }
      ]
    },
    {
      "cell_type": "markdown",
      "source": [
        ""
      ],
      "metadata": {
        "id": "w6ffjXUavtN2"
      }
    },
    {
      "cell_type": "code",
      "metadata": {
        "id": "qqcRh41XoKBa"
      },
      "source": [
        "from scipy.stats import loguniform\n",
        "from pandas import read_csv\n",
        "from sklearn.linear_model import LogisticRegression\n",
        "from sklearn.model_selection import RepeatedStratifiedKFold\n",
        "from sklearn.model_selection import RandomizedSearchCV\n",
        "# define evaluation\n",
        "cv = RepeatedStratifiedKFold(n_splits=10, n_repeats=3, random_state=1)\n",
        "# define search space\n",
        "space = dict()\n",
        "space['penalty'] = ['none', 'l1', 'l2', 'elasticnet']\n",
        "space['C'] = [1e-5, 1e-4, 1e-3, 1e-2, 1e-1, 1, 10, 100]\n",
        "# define search\n",
        "search = RandomizedSearchCV(model, space, scoring='accuracy', cv=cv,verbose=3)\n",
        "# execute search\n",
        "result = search.fit(X_train, y_train)\n",
        "# summarize result\n",
        "print('Best Score: %s' % result.best_score_)\n",
        "print('Best Hyperparameters: %s' % result.best_params_)\n"
      ],
      "execution_count": null,
      "outputs": []
    }
  ]
}