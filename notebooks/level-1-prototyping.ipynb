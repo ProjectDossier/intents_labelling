{
 "cells": [
  {
   "cell_type": "code",
   "execution_count": null,
   "metadata": {
    "collapsed": true
   },
   "outputs": [],
   "source": [
    "import pandas as pd\n",
    "from snorkel.labeling import labeling_function,PandasLFApplier, LFAnalysis\n",
    "from snorkel.labeling.model import MajorityLabelVoter, LabelModel"
   ]
  },
  {
   "cell_type": "code",
   "execution_count": null,
   "outputs": [],
   "source": [
    "import csv\n",
    "names = [\"qid\", 'query', \"did\", 'url']\n",
    "df = pd.read_csv(\"../data/input/orcas_small.tsv\", sep='\\t', names=names, quoting=csv.QUOTE_NONE)"
   ],
   "metadata": {
    "collapsed": false,
    "pycharm": {
     "name": "#%%\n"
    }
   }
  },
  {
   "cell_type": "code",
   "execution_count": null,
   "outputs": [],
   "source": [
    "df.head()"
   ],
   "metadata": {
    "collapsed": false,
    "pycharm": {
     "name": "#%%\n"
    }
   }
  },
  {
   "cell_type": "code",
   "execution_count": null,
   "outputs": [],
   "source": [
    "df['query'] = df['query'].astype(str)"
   ],
   "metadata": {
    "collapsed": false,
    "pycharm": {
     "name": "#%%\n"
    }
   }
  },
  {
   "cell_type": "code",
   "execution_count": null,
   "outputs": [],
   "source": [
    "informational_start_words = [\n",
    "    \"why\",\n",
    "    \"what\",\n",
    "    \"when\",\n",
    "    \"who\",\n",
    "    \"where\",\n",
    "    \"how\",\n",
    "    \"is\",\n",
    "    \"can\",\n",
    "    \"do\",\n",
    "    \"does\",\n",
    "]\n"
   ],
   "metadata": {
    "collapsed": false,
    "pycharm": {
     "name": "#%%\n"
    }
   }
  },
  {
   "cell_type": "code",
   "execution_count": null,
   "outputs": [],
   "source": [
    "from snorkel.preprocess.nlp import SpacyPreprocessor\n",
    "\n",
    "# The SpacyPreprocessor parses the text in text_field and\n",
    "# stores the new enriched representation in doc_field\n",
    "spacy = SpacyPreprocessor(text_field=\"query\", doc_field=\"doc\", memoize=True)\n"
   ],
   "metadata": {
    "collapsed": false,
    "pycharm": {
     "name": "#%%\n"
    }
   }
  },
  {
   "cell_type": "code",
   "execution_count": null,
   "outputs": [],
   "source": [
    "# Constants for our labels\n",
    "TRANSACTIONAL = 1\n",
    "NAVIGATIONAL = 0\n",
    "ABSTAIN =-1"
   ],
   "metadata": {
    "collapsed": false,
    "pycharm": {
     "name": "#%%\n"
    }
   }
  },
  {
   "cell_type": "code",
   "execution_count": null,
   "outputs": [],
   "source": [
    "df_train = df.sample(frac=0.5)\n",
    "df_test = df[~df.index.isin(df_train.index)]"
   ],
   "metadata": {
    "collapsed": false,
    "pycharm": {
     "name": "#%%\n"
    }
   }
  },
  {
   "cell_type": "code",
   "execution_count": null,
   "outputs": [],
   "source": [
    "print(df_train.shape)\n",
    "print(df_test.shape)\n",
    "print(df.shape)"
   ],
   "metadata": {
    "collapsed": false,
    "pycharm": {
     "name": "#%%\n"
    }
   }
  },
  {
   "cell_type": "code",
   "execution_count": null,
   "outputs": [],
   "source": [
    "@labeling_function()\n",
    "def lf_download_lookup(x):\n",
    "  keywords = [\"download\", \"obtain\", \"access\", \"earn\", \"redeem\"]\n",
    "  return TRANSACTIONAL if any(word in x.query.lower() for word in keywords) else ABSTAIN"
   ],
   "metadata": {
    "collapsed": false,
    "pycharm": {
     "name": "#%%\n"
    }
   }
  },
  {
   "cell_type": "code",
   "execution_count": null,
   "outputs": [],
   "source": [
    "@labeling_function()\n",
    "def lf_audio_video_lookup(x):\n",
    "  keywords = [\"audio\", \"video\", \"image\", \"images\"]\n",
    "  return TRANSACTIONAL if any(word in x.query.lower() for word in keywords) else ABSTAIN"
   ],
   "metadata": {
    "collapsed": false,
    "pycharm": {
     "name": "#%%\n"
    }
   }
  },
  {
   "cell_type": "code",
   "execution_count": null,
   "outputs": [],
   "source": [
    "movies_df = pd.read_csv(\"../data/helpers/movies.csv\")\n",
    "movie_names_list = movies_df['title'].tolist()\n",
    "\n",
    "\n",
    "@labeling_function(pre=[spacy])\n",
    "def lf_movie_name_lookup(x):\n",
    "    if x.doc[0].text.lower() in informational_start_words:\n",
    "        return ABSTAIN\n",
    "    else:\n",
    "        return (\n",
    "            TRANSACTIONAL\n",
    "            if any(movie_name in x.query.lower() for movie_name in movie_names_list)\n",
    "            else ABSTAIN\n",
    "        )\n",
    "\n",
    "\n"
   ],
   "metadata": {
    "collapsed": false,
    "pycharm": {
     "name": "#%%\n"
    }
   }
  },
  {
   "cell_type": "code",
   "execution_count": null,
   "outputs": [],
   "source": [
    "@labeling_function()\n",
    "def lf_extension_lookup(x):\n",
    "  keywords = [\"jpeg\", \"zip\", \"rar\", \"png\", \"mp3\"]\n",
    "  return TRANSACTIONAL if any(word in x.query.lower().split() for word in keywords) else ABSTAIN"
   ],
   "metadata": {
    "collapsed": false,
    "pycharm": {
     "name": "#%%\n"
    }
   }
  },
  {
   "cell_type": "code",
   "execution_count": null,
   "outputs": [],
   "source": [
    "@labeling_function()\n",
    "def lf_transaction_lookup(x):\n",
    "  keywords = [\"online\", \"free\", \"transaction\", \"buy\", \"chat\", \"purchase\", \"shop for\", \"procure\", \"complimentary\", \"gratuitous\", \"payment\"]\n",
    "  return TRANSACTIONAL if any(word in x.query.lower() for word in keywords) else ABSTAIN"
   ],
   "metadata": {
    "collapsed": false,
    "pycharm": {
     "name": "#%%\n"
    }
   }
  },
  {
   "cell_type": "code",
   "execution_count": null,
   "outputs": [],
   "source": [
    "@labeling_function()\n",
    "def lf_www(x):\n",
    "  keywords = [\"www\", \"http\", \"https\"]\n",
    "  return NAVIGATIONAL if any(word in x.query.lower() for word in keywords) else ABSTAIN"
   ],
   "metadata": {
    "collapsed": false,
    "pycharm": {
     "name": "#%%\n"
    }
   }
  },
  {
   "cell_type": "code",
   "execution_count": null,
   "outputs": [],
   "source": [
    "@labeling_function()\n",
    "def lf_login(x):\n",
    "  keywords = [\"login\",\"signin\",\"log in\",\"sign in\"]\n",
    "  return NAVIGATIONAL if any(word in x.query.lower() for word in keywords) else ABSTAIN\n"
   ],
   "metadata": {
    "collapsed": false,
    "pycharm": {
     "name": "#%%\n"
    }
   }
  },
  {
   "cell_type": "code",
   "execution_count": null,
   "outputs": [],
   "source": [
    "@labeling_function(pre=[spacy])\n",
    "def lf_has_ner(x):\n",
    "    for ent in x.doc.ents:\n",
    "        if ent.label_ in [\"ORG\", \"PERSON\"] and x.doc[0].text not in [\"why\",\"what\",\"when\",\"who\",\"where\",\"how\", \"is\",\"can\",\"do\",\"does\"]:\n",
    "            return NAVIGATIONAL\n",
    "    else:\n",
    "        return ABSTAIN\n"
   ],
   "metadata": {
    "collapsed": false,
    "pycharm": {
     "name": "#%%\n"
    }
   }
  },
  {
   "cell_type": "code",
   "execution_count": null,
   "outputs": [],
   "source": [
    "### Apply Fxn\n",
    "lfs = [lf_download_lookup, lf_audio_video_lookup,lf_movie_name_lookup, lf_extension_lookup, lf_transaction_lookup, lf_www, lf_login, lf_has_ner]\n",
    "applier = PandasLFApplier(lfs=lfs)\n",
    "L_train = applier.apply(df=df)"
   ],
   "metadata": {
    "collapsed": false,
    "pycharm": {
     "name": "#%%\n",
     "is_executing": true
    }
   }
  },
  {
   "cell_type": "code",
   "execution_count": null,
   "outputs": [],
   "source": [
    "L_train"
   ],
   "metadata": {
    "collapsed": false,
    "pycharm": {
     "name": "#%%\n"
    }
   }
  },
  {
   "cell_type": "code",
   "execution_count": null,
   "outputs": [],
   "source": [
    "LFAnalysis(L=L_train,lfs=lfs).lf_summary()"
   ],
   "metadata": {
    "collapsed": false,
    "pycharm": {
     "name": "#%%\n"
    }
   }
  },
  {
   "cell_type": "code",
   "execution_count": null,
   "outputs": [],
   "source": [
    "LFAnalysis(L=L_train,lfs=lfs).lf_summary()"
   ],
   "metadata": {
    "collapsed": false,
    "pycharm": {
     "name": "#%%\n"
    }
   }
  },
  {
   "cell_type": "code",
   "execution_count": null,
   "outputs": [],
   "source": [
    "# Build the model\n",
    "label_model = LabelModel(cardinality=2,verbose=True)\n",
    "label_model.fit(L_train=L_train,n_epochs=500,log_freq=100,seed=123)\n"
   ],
   "metadata": {
    "collapsed": false,
    "pycharm": {
     "name": "#%%\n"
    }
   }
  },
  {
   "cell_type": "code",
   "execution_count": null,
   "outputs": [],
   "source": [
    "\n",
    "df['Labels'] = label_model.predict(L=L_train,tie_break_policy=\"abstain\")"
   ],
   "metadata": {
    "collapsed": false,
    "pycharm": {
     "name": "#%%\n"
    }
   }
  },
  {
   "cell_type": "code",
   "execution_count": null,
   "outputs": [],
   "source": [
    "df[\"Labels\"].value_counts()"
   ],
   "metadata": {
    "collapsed": false,
    "pycharm": {
     "name": "#%%\n"
    }
   }
  },
  {
   "cell_type": "code",
   "execution_count": null,
   "outputs": [],
   "source": [
    "df[df.Labels == TRANSACTIONAL]\n"
   ],
   "metadata": {
    "collapsed": false,
    "pycharm": {
     "name": "#%%\n"
    }
   }
  },
  {
   "cell_type": "code",
   "execution_count": null,
   "outputs": [],
   "source": [
    "df[df.Labels == NAVIGATIONAL]"
   ],
   "metadata": {
    "collapsed": false,
    "pycharm": {
     "name": "#%%\n"
    }
   }
  },
  {
   "cell_type": "code",
   "execution_count": null,
   "outputs": [],
   "source": [],
   "metadata": {
    "collapsed": false,
    "pycharm": {
     "name": "#%%\n"
    }
   }
  }
 ],
 "metadata": {
  "kernelspec": {
   "display_name": "Python 3",
   "language": "python",
   "name": "python3"
  },
  "language_info": {
   "codemirror_mode": {
    "name": "ipython",
    "version": 2
   },
   "file_extension": ".py",
   "mimetype": "text/x-python",
   "name": "python",
   "nbconvert_exporter": "python",
   "pygments_lexer": "ipython2",
   "version": "2.7.6"
  }
 },
 "nbformat": 4,
 "nbformat_minor": 0
}