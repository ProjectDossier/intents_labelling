{
 "cells": [
  {
   "cell_type": "code",
   "execution_count": 5,
   "metadata": {},
   "outputs": [],
   "source": [
    "import pandas as pd\n",
    "from snorkel.labeling import labeling_function,PandasLFApplier, LFAnalysis\n",
    "from snorkel.labeling.model import MajorityLabelVoter, LabelModel"
   ]
  },
  {
   "cell_type": "code",
   "execution_count": 6,
   "metadata": {},
   "outputs": [],
   "source": [
    "import csv\n",
    "names = [\"qid\", 'query', \"did\", 'url']\n",
    "df = pd.read_csv(\"../data/input/orcas_small.tsv\", sep='\\t', names=names, quoting=csv.QUOTE_NONE)"
   ]
  },
  {
   "cell_type": "code",
   "execution_count": 7,
   "metadata": {},
   "outputs": [],
   "source": [
    "df['query'] = df['query'].astype(str)"
   ]
  },
  {
   "cell_type": "code",
   "execution_count": 8,
   "metadata": {},
   "outputs": [],
   "source": [
    "INSTRUMENTAL = 1\n",
    "FACTUAL = 0\n",
    "ABSTAIN = -1"
   ]
  },
  {
   "cell_type": "code",
   "execution_count": 9,
   "metadata": {},
   "outputs": [],
   "source": [
    "df_train = df.sample(frac=0.5)\n",
    "df_test = df[~df.index.isin(df_train.index)]"
   ]
  },
  {
   "cell_type": "code",
   "execution_count": 10,
   "metadata": {},
   "outputs": [
    {
     "name": "stdout",
     "output_type": "stream",
     "text": [
      "(50000, 4)\n",
      "(50000, 4)\n",
      "(100000, 4)\n"
     ]
    }
   ],
   "source": [
    "print(df_train.shape)\n",
    "print(df_test.shape)\n",
    "print(df.shape)"
   ]
  },
  {
   "cell_type": "code",
   "execution_count": 91,
   "metadata": {},
   "outputs": [],
   "source": [
    "from snorkel.preprocess.nlp import SpacyPreprocessor\n",
    "\n",
    "# The SpacyPreprocessor parses the text in text_field and\n",
    "# stores the new enriched representation in doc_field\n",
    "spacy = SpacyPreprocessor(text_field=\"query\", doc_field=\"doc\", memoize=True)"
   ]
  },
  {
   "cell_type": "code",
   "execution_count": 92,
   "metadata": {},
   "outputs": [],
   "source": [
    "@labeling_function(pre=[spacy])\n",
    "def lf_is_verb(x):\n",
    "    if(x.doc[0].pos_ == \"VERB\" and x.doc[0].text == x.doc[0].lemma_):\n",
    "        return INSTRUMENTAL\n",
    "    else:\n",
    "        return ABSTAIN"
   ]
  },
  {
   "cell_type": "markdown",
   "metadata": {},
   "source": [
    "@labeling_function(pre=[spacy])\n",
    "def lf_is_verb(x):\n",
    "    if any([token.pos_ == \"VERB\" and token.text == token.lemma_ for token in x.doc]):\n",
    "        return INSTRUMENTAL\n",
    "    else:\n",
    "        return ABSTAIN"
   ]
  },
  {
   "cell_type": "code",
   "execution_count": 93,
   "metadata": {},
   "outputs": [],
   "source": [
    "@labeling_function()\n",
    "def lf_keyword_lookup(x):\n",
    "  keywords = [\"why\",\"what\",\"when\",\"who\",\"where\",\"how\"]\n",
    "  return FACTUAL if any(word in x.query.lower() and \"how to\" not in x.query.lower() for word in keywords) else ABSTAIN"
   ]
  },
  {
   "cell_type": "code",
   "execution_count": 94,
   "metadata": {},
   "outputs": [],
   "source": [
    "@labeling_function()\n",
    "def lf_question_words(x):\n",
    "  keywords = [\"is\",\"can\",\"do\",\"does\"]\n",
    "  return FACTUAL if any(x.query.lower().startswith(word) for word in keywords) else ABSTAIN"
   ]
  },
  {
   "cell_type": "code",
   "execution_count": 95,
   "metadata": {},
   "outputs": [],
   "source": [
    "@labeling_function()\n",
    "def lf_facts_lookup(x):\n",
    "  keywords = [\"facts\",\"statistics\",\"quantity\",\"quantities\"]\n",
    "  return FACTUAL if any(word in x.query.lower() for word in keywords) else ABSTAIN"
   ]
  },
  {
   "cell_type": "code",
   "execution_count": 96,
   "metadata": {},
   "outputs": [],
   "source": [
    "@labeling_function()\n",
    "def lf_finance_lookup(x):\n",
    "  keywords = [\"average\",\"sum\",\"cost\",\"amount\",\"salary\",\"salaries\",\"pay\"]\n",
    "  return FACTUAL if any(word in x.query.lower() for word in keywords) else ABSTAIN"
   ]
  },
  {
   "cell_type": "code",
   "execution_count": 97,
   "metadata": {},
   "outputs": [],
   "source": [
    "@labeling_function()\n",
    "def lf_phone(x):\n",
    "  keywords = [\"number\",\"phone\",\"code\",\"zip\"]\n",
    "  return FACTUAL if any(word in x.query.lower() for word in keywords) else ABSTAIN"
   ]
  },
  {
   "cell_type": "code",
   "execution_count": 98,
   "metadata": {},
   "outputs": [],
   "source": [
    "@labeling_function()\n",
    "def lf_definition(x):\n",
    "  keywords = [\"define\",\"definition\",\"meaning\"]\n",
    "  return FACTUAL if any(word in x.query.lower() for word in keywords) else ABSTAIN"
   ]
  },
  {
   "cell_type": "code",
   "execution_count": 99,
   "metadata": {},
   "outputs": [],
   "source": [
    "@labeling_function()\n",
    "def lf_howto(x):\n",
    "  keywords = [\"how to\"]\n",
    "  return INSTRUMENTAL if any(word in x.query.lower() for word in keywords) else ABSTAIN"
   ]
  },
  {
   "cell_type": "code",
   "execution_count": 100,
   "metadata": {},
   "outputs": [],
   "source": [
    "import re\n",
    "@labeling_function()\n",
    "def lf_digit(x):\n",
    "    return FACTUAL if re.search(r\"\\d\", x.query, flags=re.I) else ABSTAIN"
   ]
  },
  {
   "cell_type": "code",
   "execution_count": 101,
   "metadata": {},
   "outputs": [],
   "source": [
    "from snorkel.preprocess.nlp import SpacyPreprocessor\n",
    "spacy = SpacyPreprocessor(text_field=\"query\", doc_field=\"doc\", memoize=True)"
   ]
  },
  {
   "cell_type": "code",
   "execution_count": 102,
   "metadata": {},
   "outputs": [
    {
     "name": "stderr",
     "output_type": "stream",
     "text": [
      "100%|██████████████████████████████████| 100000/100000 [09:28<00:00, 175.79it/s]\n"
     ]
    }
   ],
   "source": [
    "lfs = [lf_keyword_lookup,lf_howto,lf_phone,lf_digit,lf_finance_lookup,lf_facts_lookup,lf_definition,lf_question_words,lf_is_verb]\n",
    "applier = PandasLFApplier(lfs=lfs)\n",
    "L_train = applier.apply(df=df)"
   ]
  },
  {
   "cell_type": "code",
   "execution_count": 104,
   "metadata": {},
   "outputs": [
    {
     "data": {
      "text/plain": [
       "array([[-1, -1,  0, ..., -1, -1, -1],\n",
       "       [-1, -1, -1, ..., -1, -1, -1],\n",
       "       [-1, -1, -1, ..., -1, -1, -1],\n",
       "       ...,\n",
       "       [-1, -1, -1, ..., -1, -1, -1],\n",
       "       [-1, -1, -1, ..., -1, -1, -1],\n",
       "       [-1, -1, -1, ..., -1, -1, -1]])"
      ]
     },
     "execution_count": 104,
     "metadata": {},
     "output_type": "execute_result"
    }
   ],
   "source": [
    "L_train"
   ]
  },
  {
   "cell_type": "code",
   "execution_count": 105,
   "metadata": {},
   "outputs": [
    {
     "data": {
      "text/html": [
       "<div>\n",
       "<style scoped>\n",
       "    .dataframe tbody tr th:only-of-type {\n",
       "        vertical-align: middle;\n",
       "    }\n",
       "\n",
       "    .dataframe tbody tr th {\n",
       "        vertical-align: top;\n",
       "    }\n",
       "\n",
       "    .dataframe thead th {\n",
       "        text-align: right;\n",
       "    }\n",
       "</style>\n",
       "<table border=\"1\" class=\"dataframe\">\n",
       "  <thead>\n",
       "    <tr style=\"text-align: right;\">\n",
       "      <th></th>\n",
       "      <th>j</th>\n",
       "      <th>Polarity</th>\n",
       "      <th>Coverage</th>\n",
       "      <th>Overlaps</th>\n",
       "      <th>Conflicts</th>\n",
       "    </tr>\n",
       "  </thead>\n",
       "  <tbody>\n",
       "    <tr>\n",
       "      <th>lf_keyword_lookup</th>\n",
       "      <td>0</td>\n",
       "      <td>[0]</td>\n",
       "      <td>0.08428</td>\n",
       "      <td>0.00748</td>\n",
       "      <td>0.00042</td>\n",
       "    </tr>\n",
       "    <tr>\n",
       "      <th>lf_howto</th>\n",
       "      <td>1</td>\n",
       "      <td>[1]</td>\n",
       "      <td>0.02085</td>\n",
       "      <td>0.00228</td>\n",
       "      <td>0.00222</td>\n",
       "    </tr>\n",
       "    <tr>\n",
       "      <th>lf_phone</th>\n",
       "      <td>2</td>\n",
       "      <td>[0]</td>\n",
       "      <td>0.02448</td>\n",
       "      <td>0.00763</td>\n",
       "      <td>0.00303</td>\n",
       "    </tr>\n",
       "    <tr>\n",
       "      <th>lf_digit</th>\n",
       "      <td>3</td>\n",
       "      <td>[0]</td>\n",
       "      <td>0.06255</td>\n",
       "      <td>0.01249</td>\n",
       "      <td>0.00435</td>\n",
       "    </tr>\n",
       "    <tr>\n",
       "      <th>lf_finance_lookup</th>\n",
       "      <td>4</td>\n",
       "      <td>[0]</td>\n",
       "      <td>0.01976</td>\n",
       "      <td>0.00508</td>\n",
       "      <td>0.00177</td>\n",
       "    </tr>\n",
       "    <tr>\n",
       "      <th>lf_facts_lookup</th>\n",
       "      <td>5</td>\n",
       "      <td>[0]</td>\n",
       "      <td>0.00346</td>\n",
       "      <td>0.00033</td>\n",
       "      <td>0.00007</td>\n",
       "    </tr>\n",
       "    <tr>\n",
       "      <th>lf_definition</th>\n",
       "      <td>6</td>\n",
       "      <td>[0]</td>\n",
       "      <td>0.02139</td>\n",
       "      <td>0.00469</td>\n",
       "      <td>0.00363</td>\n",
       "    </tr>\n",
       "    <tr>\n",
       "      <th>lf_question_words</th>\n",
       "      <td>7</td>\n",
       "      <td>[0]</td>\n",
       "      <td>0.01848</td>\n",
       "      <td>0.00286</td>\n",
       "      <td>0.00122</td>\n",
       "    </tr>\n",
       "    <tr>\n",
       "      <th>lf_is_verb</th>\n",
       "      <td>8</td>\n",
       "      <td>[1]</td>\n",
       "      <td>0.05793</td>\n",
       "      <td>0.01158</td>\n",
       "      <td>0.01152</td>\n",
       "    </tr>\n",
       "  </tbody>\n",
       "</table>\n",
       "</div>"
      ],
      "text/plain": [
       "                   j Polarity  Coverage  Overlaps  Conflicts\n",
       "lf_keyword_lookup  0      [0]   0.08428   0.00748    0.00042\n",
       "lf_howto           1      [1]   0.02085   0.00228    0.00222\n",
       "lf_phone           2      [0]   0.02448   0.00763    0.00303\n",
       "lf_digit           3      [0]   0.06255   0.01249    0.00435\n",
       "lf_finance_lookup  4      [0]   0.01976   0.00508    0.00177\n",
       "lf_facts_lookup    5      [0]   0.00346   0.00033    0.00007\n",
       "lf_definition      6      [0]   0.02139   0.00469    0.00363\n",
       "lf_question_words  7      [0]   0.01848   0.00286    0.00122\n",
       "lf_is_verb         8      [1]   0.05793   0.01158    0.01152"
      ]
     },
     "execution_count": 105,
     "metadata": {},
     "output_type": "execute_result"
    }
   ],
   "source": [
    "LFAnalysis(L=L_train,lfs=lfs).lf_summary()"
   ]
  },
  {
   "cell_type": "code",
   "execution_count": 106,
   "metadata": {},
   "outputs": [],
   "source": [
    "# Build the model\n",
    "label_model = LabelModel(cardinality=2,verbose=True)\n",
    "label_model.fit(L_train=L_train,n_epochs=500,log_freq=100,seed=123)"
   ]
  },
  {
   "cell_type": "code",
   "execution_count": 107,
   "metadata": {},
   "outputs": [],
   "source": [
    "df['Labels'] = label_model.predict(L=L_train,tie_break_policy=\"abstain\")"
   ]
  },
  {
   "cell_type": "code",
   "execution_count": 109,
   "metadata": {},
   "outputs": [
    {
     "data": {
      "text/plain": [
       "-1    71455\n",
       " 0    19013\n",
       " 1     9532\n",
       "Name: Labels, dtype: int64"
      ]
     },
     "execution_count": 109,
     "metadata": {},
     "output_type": "execute_result"
    }
   ],
   "source": [
    "df[\"Labels\"].value_counts()"
   ]
  },
  {
   "cell_type": "code",
   "execution_count": 110,
   "metadata": {},
   "outputs": [
    {
     "data": {
      "text/html": [
       "<div>\n",
       "<style scoped>\n",
       "    .dataframe tbody tr th:only-of-type {\n",
       "        vertical-align: middle;\n",
       "    }\n",
       "\n",
       "    .dataframe tbody tr th {\n",
       "        vertical-align: top;\n",
       "    }\n",
       "\n",
       "    .dataframe thead th {\n",
       "        text-align: right;\n",
       "    }\n",
       "</style>\n",
       "<table border=\"1\" class=\"dataframe\">\n",
       "  <thead>\n",
       "    <tr style=\"text-align: right;\">\n",
       "      <th></th>\n",
       "      <th>qid</th>\n",
       "      <th>query</th>\n",
       "      <th>did</th>\n",
       "      <th>url</th>\n",
       "      <th>Labels</th>\n",
       "    </tr>\n",
       "  </thead>\n",
       "  <tbody>\n",
       "    <tr>\n",
       "      <th>0</th>\n",
       "      <td>9808497</td>\n",
       "      <td>comcast phone service problems</td>\n",
       "      <td>D1720298</td>\n",
       "      <td>https://www.consumeraffairs.com/cable_tv/comca...</td>\n",
       "      <td>0</td>\n",
       "    </tr>\n",
       "    <tr>\n",
       "      <th>3</th>\n",
       "      <td>8991004</td>\n",
       "      <td>what happened to general electric</td>\n",
       "      <td>D119293</td>\n",
       "      <td>https://en.wikipedia.org/wiki/General_Electric</td>\n",
       "      <td>0</td>\n",
       "    </tr>\n",
       "    <tr>\n",
       "      <th>5</th>\n",
       "      <td>7277058</td>\n",
       "      <td>paystatments.adp.com</td>\n",
       "      <td>D3347761</td>\n",
       "      <td>https://www.adp.com/contact-us/support-for-emp...</td>\n",
       "      <td>0</td>\n",
       "    </tr>\n",
       "    <tr>\n",
       "      <th>11</th>\n",
       "      <td>3869505</td>\n",
       "      <td>stonecrest ga zip code</td>\n",
       "      <td>D3309574</td>\n",
       "      <td>https://www.zip-codes.com/city/ga-lithonia.asp</td>\n",
       "      <td>0</td>\n",
       "    </tr>\n",
       "    <tr>\n",
       "      <th>18</th>\n",
       "      <td>11286698</td>\n",
       "      <td>2018 printable philadelphia eagles schedule</td>\n",
       "      <td>D361329</td>\n",
       "      <td>http://printableteamschedules.com/NFL/philadel...</td>\n",
       "      <td>0</td>\n",
       "    </tr>\n",
       "    <tr>\n",
       "      <th>...</th>\n",
       "      <td>...</td>\n",
       "      <td>...</td>\n",
       "      <td>...</td>\n",
       "      <td>...</td>\n",
       "      <td>...</td>\n",
       "    </tr>\n",
       "    <tr>\n",
       "      <th>99970</th>\n",
       "      <td>11690984</td>\n",
       "      <td>what are edamame beans</td>\n",
       "      <td>D2953467</td>\n",
       "      <td>https://www.thespruce.com/what-is-edamame-3376830</td>\n",
       "      <td>0</td>\n",
       "    </tr>\n",
       "    <tr>\n",
       "      <th>99977</th>\n",
       "      <td>11841957</td>\n",
       "      <td>what does a cavity feel like</td>\n",
       "      <td>D2191432</td>\n",
       "      <td>https://www.livescience.com/44223-cavities-too...</td>\n",
       "      <td>0</td>\n",
       "    </tr>\n",
       "    <tr>\n",
       "      <th>99978</th>\n",
       "      <td>2622392</td>\n",
       "      <td>double-slit experiment</td>\n",
       "      <td>D476845</td>\n",
       "      <td>https://en.wikipedia.org/wiki/Double-slit_expe...</td>\n",
       "      <td>0</td>\n",
       "    </tr>\n",
       "    <tr>\n",
       "      <th>99979</th>\n",
       "      <td>6637930</td>\n",
       "      <td>how many carbs in alcohol chart</td>\n",
       "      <td>D949888</td>\n",
       "      <td>http://getdrunknotfat.com/</td>\n",
       "      <td>0</td>\n",
       "    </tr>\n",
       "    <tr>\n",
       "      <th>99988</th>\n",
       "      <td>8643188</td>\n",
       "      <td>what temp should pork chops be cooked to</td>\n",
       "      <td>D409323</td>\n",
       "      <td>http://www.cookinglight.com/eating-smart/smart...</td>\n",
       "      <td>0</td>\n",
       "    </tr>\n",
       "  </tbody>\n",
       "</table>\n",
       "<p>19013 rows × 5 columns</p>\n",
       "</div>"
      ],
      "text/plain": [
       "            qid                                        query       did  \\\n",
       "0       9808497               comcast phone service problems  D1720298   \n",
       "3       8991004            what happened to general electric   D119293   \n",
       "5       7277058                         paystatments.adp.com  D3347761   \n",
       "11      3869505                       stonecrest ga zip code  D3309574   \n",
       "18     11286698  2018 printable philadelphia eagles schedule   D361329   \n",
       "...         ...                                          ...       ...   \n",
       "99970  11690984                       what are edamame beans  D2953467   \n",
       "99977  11841957                 what does a cavity feel like  D2191432   \n",
       "99978   2622392                       double-slit experiment   D476845   \n",
       "99979   6637930              how many carbs in alcohol chart   D949888   \n",
       "99988   8643188     what temp should pork chops be cooked to   D409323   \n",
       "\n",
       "                                                     url  Labels  \n",
       "0      https://www.consumeraffairs.com/cable_tv/comca...       0  \n",
       "3         https://en.wikipedia.org/wiki/General_Electric       0  \n",
       "5      https://www.adp.com/contact-us/support-for-emp...       0  \n",
       "11        https://www.zip-codes.com/city/ga-lithonia.asp       0  \n",
       "18     http://printableteamschedules.com/NFL/philadel...       0  \n",
       "...                                                  ...     ...  \n",
       "99970  https://www.thespruce.com/what-is-edamame-3376830       0  \n",
       "99977  https://www.livescience.com/44223-cavities-too...       0  \n",
       "99978  https://en.wikipedia.org/wiki/Double-slit_expe...       0  \n",
       "99979                         http://getdrunknotfat.com/       0  \n",
       "99988  http://www.cookinglight.com/eating-smart/smart...       0  \n",
       "\n",
       "[19013 rows x 5 columns]"
      ]
     },
     "execution_count": 110,
     "metadata": {},
     "output_type": "execute_result"
    }
   ],
   "source": [
    "df[df.Labels == FACTUAL]"
   ]
  },
  {
   "cell_type": "code",
   "execution_count": 111,
   "metadata": {},
   "outputs": [
    {
     "data": {
      "text/html": [
       "<div>\n",
       "<style scoped>\n",
       "    .dataframe tbody tr th:only-of-type {\n",
       "        vertical-align: middle;\n",
       "    }\n",
       "\n",
       "    .dataframe tbody tr th {\n",
       "        vertical-align: top;\n",
       "    }\n",
       "\n",
       "    .dataframe thead th {\n",
       "        text-align: right;\n",
       "    }\n",
       "</style>\n",
       "<table border=\"1\" class=\"dataframe\">\n",
       "  <thead>\n",
       "    <tr style=\"text-align: right;\">\n",
       "      <th></th>\n",
       "      <th>qid</th>\n",
       "      <th>query</th>\n",
       "      <th>did</th>\n",
       "      <th>url</th>\n",
       "      <th>Labels</th>\n",
       "    </tr>\n",
       "  </thead>\n",
       "  <tbody>\n",
       "    <tr>\n",
       "      <th>7</th>\n",
       "      <td>8195949</td>\n",
       "      <td>convert mcg to mg</td>\n",
       "      <td>D218554</td>\n",
       "      <td>http://www.thecalculatorsite.com/conversions/c...</td>\n",
       "      <td>1</td>\n",
       "    </tr>\n",
       "    <tr>\n",
       "      <th>9</th>\n",
       "      <td>10385598</td>\n",
       "      <td>calculate my cumulative college gpa</td>\n",
       "      <td>D838604</td>\n",
       "      <td>http://gpacalculator.net/college-gpa-calculator/</td>\n",
       "      <td>1</td>\n",
       "    </tr>\n",
       "    <tr>\n",
       "      <th>20</th>\n",
       "      <td>3810622</td>\n",
       "      <td>boei</td>\n",
       "      <td>D3286390</td>\n",
       "      <td>https://acronyms.thefreedictionary.com/BOEI</td>\n",
       "      <td>1</td>\n",
       "    </tr>\n",
       "    <tr>\n",
       "      <th>28</th>\n",
       "      <td>12096848</td>\n",
       "      <td>setup new email</td>\n",
       "      <td>D761831</td>\n",
       "      <td>https://support.google.com/mail/answer/56256?h...</td>\n",
       "      <td>1</td>\n",
       "    </tr>\n",
       "    <tr>\n",
       "      <th>32</th>\n",
       "      <td>2138980</td>\n",
       "      <td>instigate meaning</td>\n",
       "      <td>D1653637</td>\n",
       "      <td>https://www.merriam-webster.com/dictionary/ins...</td>\n",
       "      <td>1</td>\n",
       "    </tr>\n",
       "    <tr>\n",
       "      <th>...</th>\n",
       "      <td>...</td>\n",
       "      <td>...</td>\n",
       "      <td>...</td>\n",
       "      <td>...</td>\n",
       "      <td>...</td>\n",
       "    </tr>\n",
       "    <tr>\n",
       "      <th>99943</th>\n",
       "      <td>11858611</td>\n",
       "      <td>cui definition</td>\n",
       "      <td>D1274971</td>\n",
       "      <td>https://www.techopedia.com/definition/24832/co...</td>\n",
       "      <td>1</td>\n",
       "    </tr>\n",
       "    <tr>\n",
       "      <th>99949</th>\n",
       "      <td>11721387</td>\n",
       "      <td>read my essay</td>\n",
       "      <td>D269418</td>\n",
       "      <td>https://ttsreader.com/</td>\n",
       "      <td>1</td>\n",
       "    </tr>\n",
       "    <tr>\n",
       "      <th>99953</th>\n",
       "      <td>3272120</td>\n",
       "      <td>asteroid names</td>\n",
       "      <td>D288198</td>\n",
       "      <td>https://en.wikipedia.org/wiki/Asteroid</td>\n",
       "      <td>1</td>\n",
       "    </tr>\n",
       "    <tr>\n",
       "      <th>99957</th>\n",
       "      <td>3293413</td>\n",
       "      <td>set up an email address</td>\n",
       "      <td>D789518</td>\n",
       "      <td>https://uk.mail.yahoo.com/</td>\n",
       "      <td>1</td>\n",
       "    </tr>\n",
       "    <tr>\n",
       "      <th>99959</th>\n",
       "      <td>3394496</td>\n",
       "      <td>adderall for adhd</td>\n",
       "      <td>D5845</td>\n",
       "      <td>https://www.drugs.com/adderall.html</td>\n",
       "      <td>1</td>\n",
       "    </tr>\n",
       "  </tbody>\n",
       "</table>\n",
       "<p>9532 rows × 5 columns</p>\n",
       "</div>"
      ],
      "text/plain": [
       "            qid                                query       did  \\\n",
       "7       8195949                    convert mcg to mg   D218554   \n",
       "9      10385598  calculate my cumulative college gpa   D838604   \n",
       "20      3810622                                 boei  D3286390   \n",
       "28     12096848                      setup new email   D761831   \n",
       "32      2138980                    instigate meaning  D1653637   \n",
       "...         ...                                  ...       ...   \n",
       "99943  11858611                       cui definition  D1274971   \n",
       "99949  11721387                        read my essay   D269418   \n",
       "99953   3272120                       asteroid names   D288198   \n",
       "99957   3293413              set up an email address   D789518   \n",
       "99959   3394496                    adderall for adhd     D5845   \n",
       "\n",
       "                                                     url  Labels  \n",
       "7      http://www.thecalculatorsite.com/conversions/c...       1  \n",
       "9       http://gpacalculator.net/college-gpa-calculator/       1  \n",
       "20           https://acronyms.thefreedictionary.com/BOEI       1  \n",
       "28     https://support.google.com/mail/answer/56256?h...       1  \n",
       "32     https://www.merriam-webster.com/dictionary/ins...       1  \n",
       "...                                                  ...     ...  \n",
       "99943  https://www.techopedia.com/definition/24832/co...       1  \n",
       "99949                             https://ttsreader.com/       1  \n",
       "99953             https://en.wikipedia.org/wiki/Asteroid       1  \n",
       "99957                         https://uk.mail.yahoo.com/       1  \n",
       "99959                https://www.drugs.com/adderall.html       1  \n",
       "\n",
       "[9532 rows x 5 columns]"
      ]
     },
     "execution_count": 111,
     "metadata": {},
     "output_type": "execute_result"
    }
   ],
   "source": [
    "df[df.Labels == INSTRUMENTAL]"
   ]
  },
  {
   "cell_type": "code",
   "execution_count": 77,
   "metadata": {},
   "outputs": [],
   "source": [
    "import seaborn as sns"
   ]
  },
  {
   "cell_type": "code",
   "execution_count": 78,
   "metadata": {},
   "outputs": [
    {
     "data": {
      "text/plain": [
       "<AxesSubplot:xlabel='Labels', ylabel='count'>"
      ]
     },
     "execution_count": 78,
     "metadata": {},
     "output_type": "execute_result"
    },
    {
     "data": {
      "image/png": "[encoded data removed]",
      "text/plain": [
       "<Figure size 432x288 with 1 Axes>"
      ]
     },
     "metadata": {
      "needs_background": "light"
     },
     "output_type": "display_data"
    }
   ],
   "source": [
    "sns.countplot(x='Labels',data=df)"
   ]
  },
  {
   "cell_type": "code",
   "execution_count": 186,
   "metadata": {},
   "outputs": [
    {
     "name": "stdout",
     "output_type": "stream",
     "text": [
      "make\n"
     ]
    }
   ],
   "source": [
    "import spacy\n",
    "\n",
    "nlp = spacy.load(\"en_core_web_sm\")\n",
    "doc = nlp(\"make nerve in neck\")\n",
    "\n",
    "if(doc[0].pos_ == \"VERB\" and doc[0].text == doc[0].lemma_):\n",
    "    print(doc[0].text)"
   ]
  },
  {
   "cell_type": "code",
   "execution_count": null,
   "metadata": {},
   "outputs": [],
   "source": []
  },
  {
   "cell_type": "code",
   "execution_count": null,
   "metadata": {},
   "outputs": [],
   "source": []
  },
  {
   "cell_type": "code",
   "execution_count": null,
   "metadata": {},
   "outputs": [],
   "source": []
  }
 ],
 "metadata": {
  "kernelspec": {
   "display_name": "Python 3 (ipykernel)",
   "language": "python",
   "name": "python3"
  },
  "language_info": {
   "codemirror_mode": {
    "name": "ipython",
    "version": 3
   },
   "file_extension": ".py",
   "mimetype": "text/x-python",
   "name": "python",
   "nbconvert_exporter": "python",
   "pygments_lexer": "ipython3",
   "version": "3.8.12"
  }
 },
 "nbformat": 4,
 "nbformat_minor": 4
}
